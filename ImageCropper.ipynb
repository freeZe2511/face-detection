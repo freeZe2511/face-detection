{
 "cells": [
  {
   "cell_type": "code",
   "execution_count": null,
   "metadata": {},
   "outputs": [],
   "source": [
    "import os\n",
    "from xml.etree import ElementTree\n",
    "from os import listdir\n",
    "from os.path import isfile, join"
   ]
  },
  {
   "cell_type": "code",
   "execution_count": null,
   "metadata": {},
   "outputs": [],
   "source": [
    "myPathHelper = os.getcwd() + '/images'                             \n",
    "folderList = listdir(myPathHelper)"
   ]
  },
  {
   "cell_type": "code",
   "execution_count": null,
   "metadata": {},
   "outputs": [],
   "source": [
    "!pip install deepface\n",
    "from deepface import DeepFace\n",
    "import cv2\n",
    "import matplotlib.pyplot as plt\n",
    "import matplotlib.patches as patches"
   ]
  },
  {
   "cell_type": "code",
   "execution_count": null,
   "metadata": {},
   "outputs": [],
   "source": [
    "for folder in folderList:\n",
    "   \n",
    "    mypath = myPathHelper + '/' + folder                        \n",
    "    myFiles = [f for f in listdir(mypath) if f.endswith('.jpg')]\n",
    "    \n",
    "    print(folder)\n",
    "    \n",
    "    for file in range(len(myFiles)):\n",
    "        \n",
    "        file_name = myFiles[file]\n",
    "\n",
    "        face = DeepFace.detectFace(img_path = file_name, target_size = (224, 224), detector_backend = \"dlib\")\n",
    "        \n",
    "        #saves image in same folder, same name with 'crop_' in front\n",
    "        plt.imsave(str('crop_')+file_name, face)"
   ]
  }
 ],
 "metadata": {
  "language_info": {
   "name": "python"
  },
  "orig_nbformat": 4
 },
 "nbformat": 4,
 "nbformat_minor": 2
}
