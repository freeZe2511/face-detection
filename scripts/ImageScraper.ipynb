{
 "cells": [
  {
   "cell_type": "code",
   "execution_count": null,
   "metadata": {},
   "outputs": [],
   "source": [
    "import ipynb.fs.full.Helper as h\n",
    "\n",
    "from imp import reload\n",
    "reload(h)"
   ]
  },
  {
   "cell_type": "code",
   "execution_count": null,
   "metadata": {},
   "outputs": [],
   "source": [
    "from jmd_imagescraper.core import * # dont't worry, it's designed to work with import *\n",
    "import shutil, os"
   ]
  },
  {
   "cell_type": "code",
   "execution_count": null,
   "metadata": {},
   "outputs": [],
   "source": [
    "# image download\n",
    "for label in h.query_array:\n",
    "    duckduckgo_search(h.imagesVersion, f'{label}', f'{label}', max_results=h.results)\n",
    "    images = os.listdir(f'{h.imagesVersion}/{label}')\n",
    "    imageSubfolder = f'{h.imagesVersion}/{label}/images'\n",
    "    if not os.path.exists(imageSubfolder):\n",
    "        os.mkdir(imageSubfolder)\n",
    "    for image in images:\n",
    "        shutil.move(f'{h.imagesVersion}/{label}/{image}', f'{h.imagesVersion}/{label}/images')"
   ]
  }
 ],
 "metadata": {
  "kernelspec": {
   "display_name": "Python 3",
   "language": "python",
   "name": "python3"
  },
  "language_info": {
   "codemirror_mode": {
    "name": "ipython",
    "version": 3
   },
   "file_extension": ".py",
   "mimetype": "text/x-python",
   "name": "python",
   "nbconvert_exporter": "python",
   "pygments_lexer": "ipython3",
   "version": "3.8.10"
  }
 },
 "nbformat": 4,
 "nbformat_minor": 2
}
