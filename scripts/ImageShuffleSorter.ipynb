{
 "cells": [
  {
   "cell_type": "code",
   "execution_count": 1,
   "metadata": {},
   "outputs": [],
   "source": [
    "import os, random, shutil"
   ]
  },
  {
   "cell_type": "code",
   "execution_count": 5,
   "metadata": {},
   "outputs": [],
   "source": [
    "path = os.getcwd()\n",
    "abspath = os.path.abspath(os.path.join(path, os.pardir))"
   ]
  },
  {
   "cell_type": "code",
   "execution_count": 9,
   "metadata": {},
   "outputs": [
    {
     "name": "stdout",
     "output_type": "stream",
     "text": [
      "/tf/src/datasetV3\n"
     ]
    }
   ],
   "source": [
    "dataset = f'{abspath}/datasetV3' \n",
    "if not os.path.exists(dataset):\n",
    "    print(dataset)\n",
    "    os.mkdir(dataset)\n",
    "    os.mkdir(f'{dataset}/train')\n",
    "    os.mkdir(f'{dataset}/val')\n",
    "    os.mkdir(f'{dataset}/test')"
   ]
  },
  {
   "cell_type": "code",
   "execution_count": 10,
   "metadata": {},
   "outputs": [
    {
     "name": "stdout",
     "output_type": "stream",
     "text": [
      "['AngelaMerkel', 'AnnalenaBaerbock', 'AnthonyFauci', 'ArnoldSchwarzenegger', 'BarackObama', 'BenedictCumberbatch', 'BradPitt', 'ChadwickBoseman', 'ChrisHemsworth', 'ChrisPratt', 'ChristianBale', 'ChristianLindner', 'CristianoRonaldo', 'DenzelWashington', 'DonaldTrump', 'DwayneJohnson', 'EdSheeran', 'ElonMusk', \"ElyasM'barek\", 'GeorgeClooney', 'GüntherJauch', 'HeidiKlum', 'HeleneFischer', 'JasonMomoa', 'JeffBezos', 'JoeBiden', 'JudithRakers', 'KarlLauterbach', 'KobeBryant', 'LeBronJames', 'LeonardoDiCaprio', 'LewisHamilton', 'LionelMessi', 'MacKenzieScott', 'ManuelNeuer', 'MaxVerstappen', 'MichaelJackson', 'MichaelJordan', 'MorganFreeman', 'NovakDjokovic', 'OlafScholz', 'RafaelNadal', 'RobertDowneyJr', 'RogerFederer', 'SebastianVettel', \"ShaquilleO'Neal\", 'StefanRaab', 'SylvesterStallone', 'TomCruise', 'TomHanks', 'TomHardy', 'TomHiddleston', 'VinDiesel', 'WillSmith', 'WladimirPutin', 'XiJinping']\n"
     ]
    }
   ],
   "source": [
    "pathImageFolder = abspath + '/imagesV2'                             \n",
    "folderList = os.listdir(pathImageFolder)\n",
    "print(folderList)"
   ]
  },
  {
   "cell_type": "code",
   "execution_count": 11,
   "metadata": {},
   "outputs": [
    {
     "name": "stdout",
     "output_type": "stream",
     "text": [
      "AngelaMerkel\n",
      "AnnalenaBaerbock\n",
      "AnthonyFauci\n",
      "ArnoldSchwarzenegger\n",
      "BarackObama\n",
      "BenedictCumberbatch\n",
      "BradPitt\n",
      "ChadwickBoseman\n",
      "ChrisHemsworth\n",
      "ChrisPratt\n",
      "ChristianBale\n",
      "ChristianLindner\n",
      "CristianoRonaldo\n",
      "DenzelWashington\n",
      "DonaldTrump\n",
      "DwayneJohnson\n",
      "EdSheeran\n",
      "ElonMusk\n",
      "ElyasM'barek\n",
      "GeorgeClooney\n",
      "GüntherJauch\n",
      "HeidiKlum\n",
      "HeleneFischer\n",
      "JasonMomoa\n",
      "JeffBezos\n",
      "JoeBiden\n",
      "JudithRakers\n",
      "KarlLauterbach\n",
      "KobeBryant\n",
      "LeBronJames\n",
      "LeonardoDiCaprio\n",
      "LewisHamilton\n",
      "LionelMessi\n",
      "MacKenzieScott\n",
      "ManuelNeuer\n",
      "MaxVerstappen\n",
      "MichaelJackson\n",
      "MichaelJordan\n",
      "MorganFreeman\n",
      "NovakDjokovic\n",
      "OlafScholz\n",
      "RafaelNadal\n",
      "RobertDowneyJr\n",
      "RogerFederer\n",
      "SebastianVettel\n",
      "ShaquilleO'Neal\n"
     ]
    },
    {
     "ename": "KeyboardInterrupt",
     "evalue": "",
     "output_type": "error",
     "traceback": [
      "\u001b[0;31m\u001b[0m",
      "\u001b[0;31mKeyboardInterrupt\u001b[0mTraceback (most recent call last)",
      "\u001b[0;32m<ipython-input-11-acd824b70aec>\u001b[0m in \u001b[0;36m<module>\u001b[0;34m\u001b[0m\n\u001b[1;32m     13\u001b[0m         \u001b[0;32melif\u001b[0m\u001b[0;34m(\u001b[0m\u001b[0mi\u001b[0m \u001b[0;34m>\u001b[0m \u001b[0mint\u001b[0m\u001b[0;34m(\u001b[0m\u001b[0mlen\u001b[0m\u001b[0;34m(\u001b[0m\u001b[0mmyFiles\u001b[0m\u001b[0;34m)\u001b[0m \u001b[0;34m*\u001b[0m \u001b[0;36m0.7\u001b[0m\u001b[0;34m)\u001b[0m \u001b[0;32mand\u001b[0m \u001b[0mi\u001b[0m \u001b[0;34m<=\u001b[0m \u001b[0mint\u001b[0m\u001b[0;34m(\u001b[0m\u001b[0mlen\u001b[0m\u001b[0;34m(\u001b[0m\u001b[0mmyFiles\u001b[0m\u001b[0;34m)\u001b[0m \u001b[0;34m*\u001b[0m \u001b[0;36m0.85\u001b[0m\u001b[0;34m)\u001b[0m\u001b[0;34m)\u001b[0m\u001b[0;34m:\u001b[0m\u001b[0;34m\u001b[0m\u001b[0;34m\u001b[0m\u001b[0m\n\u001b[1;32m     14\u001b[0m             \u001b[0mshutil\u001b[0m\u001b[0;34m.\u001b[0m\u001b[0mcopy\u001b[0m\u001b[0;34m(\u001b[0m\u001b[0;34mf'{imageFolder}/{file}'\u001b[0m\u001b[0;34m,\u001b[0m \u001b[0;34mf'{dataset}/val'\u001b[0m\u001b[0;34m)\u001b[0m\u001b[0;34m\u001b[0m\u001b[0;34m\u001b[0m\u001b[0m\n\u001b[0;32m---> 15\u001b[0;31m             \u001b[0mshutil\u001b[0m\u001b[0;34m.\u001b[0m\u001b[0mcopy\u001b[0m\u001b[0;34m(\u001b[0m\u001b[0;34mf'{labelFolder}/{file.replace(\"jpg\", \"xml\")}'\u001b[0m\u001b[0;34m,\u001b[0m \u001b[0;34mf'{dataset}/val'\u001b[0m\u001b[0;34m)\u001b[0m\u001b[0;34m\u001b[0m\u001b[0;34m\u001b[0m\u001b[0m\n\u001b[0m\u001b[1;32m     16\u001b[0m         \u001b[0;32melse\u001b[0m\u001b[0;34m:\u001b[0m\u001b[0;34m\u001b[0m\u001b[0;34m\u001b[0m\u001b[0m\n\u001b[1;32m     17\u001b[0m             \u001b[0mshutil\u001b[0m\u001b[0;34m.\u001b[0m\u001b[0mcopy\u001b[0m\u001b[0;34m(\u001b[0m\u001b[0;34mf'{imageFolder}/{file}'\u001b[0m\u001b[0;34m,\u001b[0m \u001b[0;34mf'{dataset}/test'\u001b[0m\u001b[0;34m)\u001b[0m\u001b[0;34m\u001b[0m\u001b[0;34m\u001b[0m\u001b[0m\n",
      "\u001b[0;32m/usr/lib/python3.8/shutil.py\u001b[0m in \u001b[0;36mcopy\u001b[0;34m(src, dst, follow_symlinks)\u001b[0m\n\u001b[1;32m    417\u001b[0m         \u001b[0mdst\u001b[0m \u001b[0;34m=\u001b[0m \u001b[0mos\u001b[0m\u001b[0;34m.\u001b[0m\u001b[0mpath\u001b[0m\u001b[0;34m.\u001b[0m\u001b[0mjoin\u001b[0m\u001b[0;34m(\u001b[0m\u001b[0mdst\u001b[0m\u001b[0;34m,\u001b[0m \u001b[0mos\u001b[0m\u001b[0;34m.\u001b[0m\u001b[0mpath\u001b[0m\u001b[0;34m.\u001b[0m\u001b[0mbasename\u001b[0m\u001b[0;34m(\u001b[0m\u001b[0msrc\u001b[0m\u001b[0;34m)\u001b[0m\u001b[0;34m)\u001b[0m\u001b[0;34m\u001b[0m\u001b[0;34m\u001b[0m\u001b[0m\n\u001b[1;32m    418\u001b[0m     \u001b[0mcopyfile\u001b[0m\u001b[0;34m(\u001b[0m\u001b[0msrc\u001b[0m\u001b[0;34m,\u001b[0m \u001b[0mdst\u001b[0m\u001b[0;34m,\u001b[0m \u001b[0mfollow_symlinks\u001b[0m\u001b[0;34m=\u001b[0m\u001b[0mfollow_symlinks\u001b[0m\u001b[0;34m)\u001b[0m\u001b[0;34m\u001b[0m\u001b[0;34m\u001b[0m\u001b[0m\n\u001b[0;32m--> 419\u001b[0;31m     \u001b[0mcopymode\u001b[0m\u001b[0;34m(\u001b[0m\u001b[0msrc\u001b[0m\u001b[0;34m,\u001b[0m \u001b[0mdst\u001b[0m\u001b[0;34m,\u001b[0m \u001b[0mfollow_symlinks\u001b[0m\u001b[0;34m=\u001b[0m\u001b[0mfollow_symlinks\u001b[0m\u001b[0;34m)\u001b[0m\u001b[0;34m\u001b[0m\u001b[0;34m\u001b[0m\u001b[0m\n\u001b[0m\u001b[1;32m    420\u001b[0m     \u001b[0;32mreturn\u001b[0m \u001b[0mdst\u001b[0m\u001b[0;34m\u001b[0m\u001b[0;34m\u001b[0m\u001b[0m\n\u001b[1;32m    421\u001b[0m \u001b[0;34m\u001b[0m\u001b[0m\n",
      "\u001b[0;32m/usr/lib/python3.8/shutil.py\u001b[0m in \u001b[0;36mcopymode\u001b[0;34m(src, dst, follow_symlinks)\u001b[0m\n\u001b[1;32m    306\u001b[0m \u001b[0;34m\u001b[0m\u001b[0m\n\u001b[1;32m    307\u001b[0m     \u001b[0mst\u001b[0m \u001b[0;34m=\u001b[0m \u001b[0mstat_func\u001b[0m\u001b[0;34m(\u001b[0m\u001b[0msrc\u001b[0m\u001b[0;34m)\u001b[0m\u001b[0;34m\u001b[0m\u001b[0;34m\u001b[0m\u001b[0m\n\u001b[0;32m--> 308\u001b[0;31m     \u001b[0mchmod_func\u001b[0m\u001b[0;34m(\u001b[0m\u001b[0mdst\u001b[0m\u001b[0;34m,\u001b[0m \u001b[0mstat\u001b[0m\u001b[0;34m.\u001b[0m\u001b[0mS_IMODE\u001b[0m\u001b[0;34m(\u001b[0m\u001b[0mst\u001b[0m\u001b[0;34m.\u001b[0m\u001b[0mst_mode\u001b[0m\u001b[0;34m)\u001b[0m\u001b[0;34m)\u001b[0m\u001b[0;34m\u001b[0m\u001b[0;34m\u001b[0m\u001b[0m\n\u001b[0m\u001b[1;32m    309\u001b[0m \u001b[0;34m\u001b[0m\u001b[0m\n\u001b[1;32m    310\u001b[0m \u001b[0;32mif\u001b[0m \u001b[0mhasattr\u001b[0m\u001b[0;34m(\u001b[0m\u001b[0mos\u001b[0m\u001b[0;34m,\u001b[0m \u001b[0;34m'listxattr'\u001b[0m\u001b[0;34m)\u001b[0m\u001b[0;34m:\u001b[0m\u001b[0;34m\u001b[0m\u001b[0;34m\u001b[0m\u001b[0m\n",
      "\u001b[0;31mKeyboardInterrupt\u001b[0m: "
     ]
    }
   ],
   "source": [
    "for folder in folderList:\n",
    "    print(folder)\n",
    "    pathFolder = pathImageFolder + '/' + folder \n",
    "    imageFolder = pathFolder + '/images/'\n",
    "    labelFolder = pathFolder + '/labels/' \n",
    "    myFiles = [f for f in os.listdir(imageFolder) if f.endswith('.jpg')]\n",
    "    random.shuffle(myFiles)\n",
    "    \n",
    "    for i, file in enumerate(myFiles):\n",
    "        if(i <= int(len(myFiles) * 0.7)):\n",
    "            shutil.copy(f'{imageFolder}/{file}', f'{dataset}/train')\n",
    "            shutil.copy(f'{labelFolder}/{file.replace(\"jpg\", \"xml\")}', f'{dataset}/train')\n",
    "        elif(i > int(len(myFiles) * 0.7) and i <= int(len(myFiles) * 0.85)):\n",
    "            shutil.copy(f'{imageFolder}/{file}', f'{dataset}/val')\n",
    "            shutil.copy(f'{labelFolder}/{file.replace(\"jpg\", \"xml\")}', f'{dataset}/val')\n",
    "        else:\n",
    "            shutil.copy(f'{imageFolder}/{file}', f'{dataset}/test')\n",
    "            shutil.copy(f'{labelFolder}/{file.replace(\"jpg\", \"xml\")}', f'{dataset}/test')\n"
   ]
  },
  {
   "cell_type": "code",
   "execution_count": null,
   "metadata": {},
   "outputs": [],
   "source": []
  }
 ],
 "metadata": {
  "kernelspec": {
   "display_name": "Python 3",
   "language": "python",
   "name": "python3"
  },
  "language_info": {
   "codemirror_mode": {
    "name": "ipython",
    "version": 3
   },
   "file_extension": ".py",
   "mimetype": "text/x-python",
   "name": "python",
   "nbconvert_exporter": "python",
   "pygments_lexer": "ipython3",
   "version": "3.8.10"
  }
 },
 "nbformat": 4,
 "nbformat_minor": 2
}
