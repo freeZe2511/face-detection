{
 "cells": [
  {
   "cell_type": "code",
   "execution_count": null,
   "metadata": {},
   "outputs": [],
   "source": [
    "from PIL import Image\n",
    "from xml.etree import ElementTree\n",
    "from deepface import DeepFace\n",
    "import os, cv2\n",
    "import matplotlib.pyplot as plt\n",
    "import matplotlib.patches as patches"
   ]
  },
  {
   "cell_type": "code",
   "execution_count": null,
   "metadata": {},
   "outputs": [],
   "source": [
    "import ipynb.fs.full.Helper as h\n",
    "\n",
    "from imp import reload\n",
    "reload(h)"
   ]
  },
  {
   "cell_type": "code",
   "execution_count": null,
   "metadata": {},
   "outputs": [],
   "source": [
    "file_template_xml = 'templateXML.xml'\n",
    "abspath_file_xml = os.path.abspath(os.path.join('assets', file_template_xml))\n",
    "\n",
    "myTree = ElementTree.parse(abspath_file_xml)\n",
    "myRoot = myTree.getroot()\n",
    "\n",
    "xmlEnding = '.xml'"
   ]
  },
  {
   "cell_type": "code",
   "execution_count": null,
   "metadata": {},
   "outputs": [],
   "source": [
    "for folder in h.imageFolderList:\n",
    "   \n",
    "    pathFolder = h.imagesVersion + '/' + folder \n",
    "    imageFolder = pathFolder + '/images/'\n",
    "    labelFolder = pathFolder + '/labels/'\n",
    "    filesPerson = [f for f in os.listdir(imageFolder) if f.endswith('.jpg')]\n",
    "    \n",
    "    print(folder)\n",
    "    \n",
    "    for file in range(len(filesPerson)):\n",
    "        \n",
    "        file_name = filesPerson[file]\n",
    "        full_file = imageFolder + file_name\n",
    "        \n",
    "        if not os.path.exists(labelFolder):\n",
    "            os.mkdir(labelFolder)\n",
    "        \n",
    "        # *** analyse + label ***\n",
    "        obj = DeepFace.analyze(img_path = full_file, enforce_detection=False)\n",
    "        \n",
    "        myRoot[0].text = folder\n",
    "        myRoot[1].text = file_name\n",
    "        myRoot[2].text = full_file\n",
    "        myRoot[6][0].text = folder\n",
    "        \n",
    "        myRoot[6][4][0].text = str(obj.get('region').get('x'))\n",
    "        myRoot[6][4][1].text = str(obj.get('region').get('y'))\n",
    "        myRoot[6][4][2].text = str((obj.get('region').get('x') + obj.get('region').get('w')))\n",
    "        myRoot[6][4][3].text = str(obj.get('region').get('y') + obj.get('region').get('w'))\n",
    "        \n",
    "        im = Image.open(full_file)\n",
    "        for xSize in range(2):\n",
    "            myRoot[4][xSize].text = str(im.size[xSize])        \n",
    "        # ***\n",
    "        \n",
    "        file_name_cut = file_name.split('.jpg')\n",
    "        newName = file_name_cut[0] + xmlEnding\n",
    "        myTree.write(os.path.join(labelFolder, newName))  #uncomment to work\n",
    "        "
   ]
  },
  {
   "cell_type": "code",
   "execution_count": null,
   "metadata": {},
   "outputs": [],
   "source": []
  }
 ],
 "metadata": {
  "kernelspec": {
   "display_name": "Python 3",
   "language": "python",
   "name": "python3"
  },
  "language_info": {
   "codemirror_mode": {
    "name": "ipython",
    "version": 3
   },
   "file_extension": ".py",
   "mimetype": "text/x-python",
   "name": "python",
   "nbconvert_exporter": "python",
   "pygments_lexer": "ipython3",
   "version": "3.8.10"
  }
 },
 "nbformat": 4,
 "nbformat_minor": 2
}
