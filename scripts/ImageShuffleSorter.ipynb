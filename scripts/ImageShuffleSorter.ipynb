{
 "cells": [
  {
   "cell_type": "code",
   "execution_count": 1,
   "metadata": {},
   "outputs": [],
   "source": [
    "import os, random, shutil"
   ]
  },
  {
   "cell_type": "code",
   "execution_count": 7,
   "metadata": {},
   "outputs": [
    {
     "data": {
      "text/plain": [
       "<module 'ipynb.fs.full.helper' (/tf/src/scripts/helper.ipynb)>"
      ]
     },
     "execution_count": 7,
     "metadata": {},
     "output_type": "execute_result"
    }
   ],
   "source": [
    "import ipynb.fs.full.helper as h\n",
    "\n",
    "from imp import reload\n",
    "reload(h)"
   ]
  },
  {
   "cell_type": "code",
   "execution_count": 8,
   "metadata": {},
   "outputs": [
    {
     "name": "stdout",
     "output_type": "stream",
     "text": [
      "KarlLauterbach\n",
      "LewisHamilton\n",
      "MaxVerstappen\n",
      "SebastianVettel\n"
     ]
    }
   ],
   "source": [
    "for folder in h.imageFolderList:\n",
    "    print(folder)\n",
    "    \n",
    "    pathFolder = h.imagesVersion + '/' + folder \n",
    "    imageFolder = pathFolder + '/images'\n",
    "    labelFolder = pathFolder + '/labels' \n",
    "    myFiles = [f for f in os.listdir(imageFolder) if f.endswith('.jpg')]\n",
    "    random.shuffle(myFiles)\n",
    "    \n",
    "    for i, file in enumerate(myFiles):\n",
    "        if(i <= int(len(myFiles) * 0.7)):\n",
    "            shutil.copy(f'{imageFolder}/{file}', h.tfTrain)\n",
    "            shutil.copy(f'{labelFolder}/{file.replace(\"jpg\", \"xml\")}', h.tfTrain)\n",
    "        elif(i > int(len(myFiles) * 0.7) and i <= int(len(myFiles) * 0.85)):\n",
    "            shutil.copy(f'{imageFolder}/{file}', h.tfVal)\n",
    "            shutil.copy(f'{labelFolder}/{file.replace(\"jpg\", \"xml\")}', h.tfVal)\n",
    "        else:\n",
    "            shutil.copy(f'{imageFolder}/{file}', h.tfTest)\n",
    "            shutil.copy(f'{labelFolder}/{file.replace(\"jpg\", \"xml\")}', h.tfTest)\n"
   ]
  },
  {
   "cell_type": "code",
   "execution_count": null,
   "metadata": {},
   "outputs": [],
   "source": []
  }
 ],
 "metadata": {
  "kernelspec": {
   "display_name": "Python 3",
   "language": "python",
   "name": "python3"
  },
  "language_info": {
   "codemirror_mode": {
    "name": "ipython",
    "version": 3
   },
   "file_extension": ".py",
   "mimetype": "text/x-python",
   "name": "python",
   "nbconvert_exporter": "python",
   "pygments_lexer": "ipython3",
   "version": "3.8.10"
  }
 },
 "nbformat": 4,
 "nbformat_minor": 2
}
