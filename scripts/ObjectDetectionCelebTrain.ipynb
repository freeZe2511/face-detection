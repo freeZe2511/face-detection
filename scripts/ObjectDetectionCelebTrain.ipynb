{
 "cells": [
  {
   "cell_type": "code",
   "execution_count": 1,
   "metadata": {},
   "outputs": [
    {
     "data": {
      "text/plain": [
       "<module 'ipynb.fs.full.helper' (/tf/src/scripts/helper.ipynb)>"
      ]
     },
     "execution_count": 1,
     "metadata": {},
     "output_type": "execute_result"
    }
   ],
   "source": [
    "import ipynb.fs.full.helper as h\n",
    "\n",
    "from imp import reload\n",
    "reload(h)"
   ]
  },
  {
   "cell_type": "code",
   "execution_count": 2,
   "metadata": {},
   "outputs": [],
   "source": [
    "import numpy as np\n",
    "import os\n",
    "\n",
    "from tflite_model_maker.config import ExportFormat\n",
    "from tflite_model_maker import model_spec\n",
    "from tflite_model_maker import object_detector\n",
    "\n",
    "import tensorflow as tf\n",
    "assert tf.__version__.startswith('2')\n",
    "\n",
    "tf.get_logger().setLevel('ERROR')\n",
    "from absl import logging\n",
    "logging.set_verbosity(logging.ERROR)"
   ]
  },
  {
   "cell_type": "code",
   "execution_count": 3,
   "metadata": {},
   "outputs": [],
   "source": [
    "spec = model_spec.get('efficientdet_lite0') # maybe different lite1-4\n",
    "#spec.model_dir=\"/logs/fit/test/\""
   ]
  },
  {
   "cell_type": "code",
   "execution_count": 15,
   "metadata": {},
   "outputs": [],
   "source": [
    "def read_train_val_test(dataset_dir, label_map):\n",
    "    return tuple(map(lambda set_: object_detector.DataLoader.from_pascal_voc(images_dir=os.path.join(dataset_dir, set_), annotations_dir=os.path.join(dataset_dir, set_), label_map=label_map), (\"train\", \"val\", \"test\")))"
   ]
  },
  {
   "cell_type": "code",
   "execution_count": 16,
   "metadata": {},
   "outputs": [],
   "source": [
    "train_data, validation_data, test_data = read_train_val_test(h.datasetsTf, h.query_array)"
   ]
  },
  {
   "cell_type": "code",
   "execution_count": 10,
   "metadata": {},
   "outputs": [
    {
     "name": "stdout",
     "output_type": "stream",
     "text": [
      "Epoch 1/5\n",
      "1/1 [==============================] - 19s 19s/step - det_loss: 2.6198 - cls_loss: 1.8633 - box_loss: 0.0151 - reg_l2_loss: 0.0757 - loss: 2.6955 - learning_rate: 0.0080 - gradient_norm: 1.5450\n",
      "Epoch 2/5\n",
      "1/1 [==============================] - 1s 974ms/step - det_loss: 2.5765 - cls_loss: 1.8437 - box_loss: 0.0147 - reg_l2_loss: 0.0757 - loss: 2.6522 - learning_rate: 0.0171 - gradient_norm: 1.3236\n",
      "Epoch 3/5\n",
      "1/1 [==============================] - 1s 980ms/step - det_loss: 2.4815 - cls_loss: 1.7989 - box_loss: 0.0137 - reg_l2_loss: 0.0757 - loss: 2.5571 - learning_rate: 0.0100 - gradient_norm: 1.2681\n",
      "Epoch 4/5\n",
      "1/1 [==============================] - 1s 978ms/step - det_loss: 2.4235 - cls_loss: 1.6821 - box_loss: 0.0148 - reg_l2_loss: 0.0757 - loss: 2.4992 - learning_rate: 0.0029 - gradient_norm: 1.0581\n",
      "Epoch 5/5\n",
      "1/1 [==============================] - 1s 975ms/step - det_loss: 2.3950 - cls_loss: 1.6809 - box_loss: 0.0143 - reg_l2_loss: 0.0757 - loss: 2.4707 - learning_rate: 0.0000e+00 - gradient_norm: 0.9261\n"
     ]
    }
   ],
   "source": [
    "model = object_detector.create(train_data, model_spec=spec, batch_size=16, train_whole_model=True, validation_data=validation_data, epochs=5)"
   ]
  },
  {
   "cell_type": "code",
   "execution_count": 11,
   "metadata": {
    "collapsed": true
   },
   "outputs": [
    {
     "name": "stdout",
     "output_type": "stream",
     "text": [
      "1/1 [==============================] - 3s 3s/step\n",
      "\n"
     ]
    },
    {
     "data": {
      "text/plain": [
       "{'AP': 0.0,\n",
       " 'AP50': 0.0,\n",
       " 'AP75': 0.0,\n",
       " 'APs': -1.0,\n",
       " 'APm': -1.0,\n",
       " 'APl': 0.0,\n",
       " 'ARmax1': 0.0,\n",
       " 'ARmax10': 0.0,\n",
       " 'ARmax100': 0.0,\n",
       " 'ARs': -1.0,\n",
       " 'ARm': -1.0,\n",
       " 'ARl': 0.0,\n",
       " 'AP_/LewisHamilton': 0.0,\n",
       " 'AP_/SebastianVettel': -1.0,\n",
       " 'AP_/MaxVerstappen': -1.0,\n",
       " 'AP_/KarlLauterbach': -1.0,\n",
       " 'AP_/CristianoRonaldo': -1.0,\n",
       " 'AP_/LionelMessi': -1.0,\n",
       " 'AP_/EdSheeran': -1.0,\n",
       " 'AP_/TomCruise': -1.0,\n",
       " 'AP_/HeleneFischer': -1.0,\n",
       " 'AP_/ArnoldSchwarzenegger': -1.0,\n",
       " 'AP_/GüntherJauch': -1.0,\n",
       " 'AP_/StefanRaab': -1.0,\n",
       " 'AP_/HeidiKlum': -1.0,\n",
       " 'AP_/ManuelNeuer': -1.0,\n",
       " \"AP_/ElyasM'barek\": -1.0,\n",
       " 'AP_/JudithRakers': -1.0,\n",
       " 'AP_/AngelaMerkel': -1.0,\n",
       " 'AP_/WladimirPutin': -1.0,\n",
       " 'AP_/OlafScholz': -1.0,\n",
       " 'AP_/JoeBiden': -1.0,\n",
       " 'AP_/DonaldTrump': -1.0,\n",
       " 'AP_/ChristianLindner': -1.0,\n",
       " 'AP_/AnnalenaBaerbock': -1.0,\n",
       " 'AP_/ElonMusk': -1.0,\n",
       " 'AP_/JeffBezos': -1.0,\n",
       " 'AP_/BarackObama': -1.0,\n",
       " 'AP_/ChrisPratt': -1.0,\n",
       " 'AP_/XiJinping': -1.0,\n",
       " 'AP_/DwayneJohnson': -1.0,\n",
       " 'AP_/MacKenzieScott': -1.0,\n",
       " 'AP_/AnthonyFauci': -1.0,\n",
       " 'AP_/GeorgeClooney': -1.0,\n",
       " 'AP_/BradPitt': -1.0,\n",
       " 'AP_/KobeBryant': -1.0,\n",
       " \"AP_/ShaquilleO'Neal\": -1.0,\n",
       " 'AP_/VinDiesel': -1.0,\n",
       " 'AP_/JasonMomoa': -1.0,\n",
       " 'AP_/ChrisHemsworth': -1.0,\n",
       " 'AP_/TomHiddleston': -1.0,\n",
       " 'AP_/BenedictCumberbatch': -1.0,\n",
       " 'AP_/ChadwickBoseman': -1.0,\n",
       " 'AP_/LeBronJames': -1.0,\n",
       " 'AP_/MichaelJordan': -1.0,\n",
       " 'AP_/MichaelJackson': -1.0,\n",
       " 'AP_/LeonardoDiCaprio': -1.0,\n",
       " 'AP_/TomHanks': -1.0,\n",
       " 'AP_/WillSmith': -1.0,\n",
       " 'AP_/DenzelWashington': -1.0,\n",
       " 'AP_/RobertDowneyJr': -1.0,\n",
       " 'AP_/TomHardy': -1.0,\n",
       " 'AP_/MorganFreeman': -1.0,\n",
       " 'AP_/NovakDjokovic': -1.0,\n",
       " 'AP_/RogerFederer': -1.0,\n",
       " 'AP_/ChristianBale': -1.0,\n",
       " 'AP_/SylvesterStallone': -1.0,\n",
       " 'AP_/AnnaFaris': -1.0,\n",
       " 'AP_/AngelinaJolie': -1.0,\n",
       " 'AP_/HillaryClinton': -1.0,\n",
       " 'AP_/JustinBieber': -1.0,\n",
       " 'AP_/RyanGosling': -1.0,\n",
       " 'AP_/EllenDegeneres': -1.0,\n",
       " 'AP_/LadyGaga': -1.0,\n",
       " 'AP_/MilesCyrus': -1.0,\n",
       " 'AP_/DieterBohlen': -1.0,\n",
       " 'AP_/BillGates': -1.0,\n",
       " 'AP_/WarrenBuffett': -1.0,\n",
       " 'AP_/ArianaGrande': -1.0,\n",
       " 'AP_/JuliaRoberts': -1.0,\n",
       " 'AP_/ShawnMendes': -1.0,\n",
       " 'AP_/AmanaSeyfried': -1.0,\n",
       " 'AP_/AlvaroSoler': -1.0,\n",
       " 'AP_/MarkForster': -1.0}"
      ]
     },
     "execution_count": 11,
     "metadata": {},
     "output_type": "execute_result"
    }
   ],
   "source": [
    "model.evaluate(test_data)"
   ]
  },
  {
   "cell_type": "code",
   "execution_count": 12,
   "metadata": {},
   "outputs": [],
   "source": [
    "model.export(export_dir=h.modelsVTf)"
   ]
  },
  {
   "cell_type": "code",
   "execution_count": 13,
   "metadata": {
    "collapsed": true
   },
   "outputs": [
    {
     "name": "stdout",
     "output_type": "stream",
     "text": [
      "4/4 [==============================] - 6s 1s/step\n",
      "\n"
     ]
    },
    {
     "data": {
      "text/plain": [
       "{'AP': 0.0,\n",
       " 'AP50': 0.0,\n",
       " 'AP75': 0.0,\n",
       " 'APs': -1.0,\n",
       " 'APm': -1.0,\n",
       " 'APl': 0.0,\n",
       " 'ARmax1': 0.0,\n",
       " 'ARmax10': 0.0,\n",
       " 'ARmax100': 0.0,\n",
       " 'ARs': -1.0,\n",
       " 'ARm': -1.0,\n",
       " 'ARl': 0.0,\n",
       " 'AP_/LewisHamilton': 0.0,\n",
       " 'AP_/SebastianVettel': 0.0,\n",
       " 'AP_/MaxVerstappen': 0.0,\n",
       " 'AP_/KarlLauterbach': 0.0,\n",
       " 'AP_/CristianoRonaldo': -1.0,\n",
       " 'AP_/LionelMessi': -1.0,\n",
       " 'AP_/EdSheeran': -1.0,\n",
       " 'AP_/TomCruise': -1.0,\n",
       " 'AP_/HeleneFischer': -1.0,\n",
       " 'AP_/ArnoldSchwarzenegger': -1.0,\n",
       " 'AP_/GüntherJauch': -1.0,\n",
       " 'AP_/StefanRaab': -1.0,\n",
       " 'AP_/HeidiKlum': -1.0,\n",
       " 'AP_/ManuelNeuer': -1.0,\n",
       " \"AP_/ElyasM'barek\": -1.0,\n",
       " 'AP_/JudithRakers': -1.0,\n",
       " 'AP_/AngelaMerkel': -1.0,\n",
       " 'AP_/WladimirPutin': -1.0,\n",
       " 'AP_/OlafScholz': -1.0,\n",
       " 'AP_/JoeBiden': -1.0,\n",
       " 'AP_/DonaldTrump': -1.0,\n",
       " 'AP_/ChristianLindner': -1.0,\n",
       " 'AP_/AnnalenaBaerbock': -1.0,\n",
       " 'AP_/ElonMusk': -1.0,\n",
       " 'AP_/JeffBezos': -1.0,\n",
       " 'AP_/BarackObama': -1.0,\n",
       " 'AP_/ChrisPratt': -1.0,\n",
       " 'AP_/XiJinping': -1.0,\n",
       " 'AP_/DwayneJohnson': -1.0,\n",
       " 'AP_/MacKenzieScott': -1.0,\n",
       " 'AP_/AnthonyFauci': -1.0,\n",
       " 'AP_/GeorgeClooney': -1.0,\n",
       " 'AP_/BradPitt': -1.0,\n",
       " 'AP_/KobeBryant': -1.0,\n",
       " \"AP_/ShaquilleO'Neal\": -1.0,\n",
       " 'AP_/VinDiesel': -1.0,\n",
       " 'AP_/JasonMomoa': -1.0,\n",
       " 'AP_/ChrisHemsworth': -1.0,\n",
       " 'AP_/TomHiddleston': -1.0,\n",
       " 'AP_/BenedictCumberbatch': -1.0,\n",
       " 'AP_/ChadwickBoseman': -1.0,\n",
       " 'AP_/LeBronJames': -1.0,\n",
       " 'AP_/MichaelJordan': -1.0,\n",
       " 'AP_/MichaelJackson': -1.0,\n",
       " 'AP_/LeonardoDiCaprio': -1.0,\n",
       " 'AP_/TomHanks': -1.0,\n",
       " 'AP_/WillSmith': -1.0,\n",
       " 'AP_/DenzelWashington': -1.0,\n",
       " 'AP_/RobertDowneyJr': -1.0,\n",
       " 'AP_/TomHardy': -1.0,\n",
       " 'AP_/MorganFreeman': -1.0,\n",
       " 'AP_/NovakDjokovic': -1.0,\n",
       " 'AP_/RogerFederer': -1.0,\n",
       " 'AP_/ChristianBale': -1.0,\n",
       " 'AP_/SylvesterStallone': -1.0,\n",
       " 'AP_/AnnaFaris': -1.0,\n",
       " 'AP_/AngelinaJolie': -1.0,\n",
       " 'AP_/HillaryClinton': -1.0,\n",
       " 'AP_/JustinBieber': -1.0,\n",
       " 'AP_/RyanGosling': -1.0,\n",
       " 'AP_/EllenDegeneres': -1.0,\n",
       " 'AP_/LadyGaga': -1.0,\n",
       " 'AP_/MilesCyrus': -1.0,\n",
       " 'AP_/DieterBohlen': -1.0,\n",
       " 'AP_/BillGates': -1.0,\n",
       " 'AP_/WarrenBuffett': -1.0,\n",
       " 'AP_/ArianaGrande': -1.0,\n",
       " 'AP_/JuliaRoberts': -1.0,\n",
       " 'AP_/ShawnMendes': -1.0,\n",
       " 'AP_/AmanaSeyfried': -1.0,\n",
       " 'AP_/AlvaroSoler': -1.0,\n",
       " 'AP_/MarkForster': -1.0}"
      ]
     },
     "execution_count": 13,
     "metadata": {},
     "output_type": "execute_result"
    }
   ],
   "source": [
    "model.evaluate_tflite(h.modelsVTf + '/model.tflite', validation_data)"
   ]
  },
  {
   "cell_type": "code",
   "execution_count": null,
   "metadata": {},
   "outputs": [],
   "source": []
  }
 ],
 "metadata": {
  "kernelspec": {
   "display_name": "Python 3",
   "language": "python",
   "name": "python3"
  },
  "language_info": {
   "codemirror_mode": {
    "name": "ipython",
    "version": 3
   },
   "file_extension": ".py",
   "mimetype": "text/x-python",
   "name": "python",
   "nbconvert_exporter": "python",
   "pygments_lexer": "ipython3",
   "version": "3.8.10"
  }
 },
 "nbformat": 4,
 "nbformat_minor": 2
}
