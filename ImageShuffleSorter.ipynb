{
 "cells": [
  {
   "cell_type": "code",
   "execution_count": 71,
   "metadata": {},
   "outputs": [],
   "source": [
    "import os, random, shutil"
   ]
  },
  {
   "cell_type": "code",
   "execution_count": 72,
   "metadata": {},
   "outputs": [
    {
     "name": "stdout",
     "output_type": "stream",
     "text": [
      "/tf/src/images\n"
     ]
    }
   ],
   "source": [
    "print(os.getcwd())"
   ]
  },
  {
   "cell_type": "code",
   "execution_count": 73,
   "metadata": {},
   "outputs": [],
   "source": [
    "dataset = 'dataset1'\n",
    "os.mkdir(dataset)\n",
    "os.mkdir(f'{dataset}/train')\n",
    "os.mkdir(f'{dataset}/val')\n",
    "os.mkdir(f'{dataset}/test')"
   ]
  },
  {
   "cell_type": "code",
   "execution_count": 74,
   "metadata": {},
   "outputs": [
    {
     "name": "stdout",
     "output_type": "stream",
     "text": [
      "['AngelaMerkel', 'AnnalenaBaerbock', 'AnthonyFauci', 'BarackObama', 'ChrisPratt', 'ChristianLindner', 'CristianoRonaldo', 'DonaldTrump', 'DwayneJohnson', 'EdSheeran', 'ElonMusk', \"ElyasM'barek\", 'GüntherJauch', 'HeidiKlum', 'HeleneFischer', 'JeffBezos', 'JoeBiden', 'JudithRakers', 'KarlLauterbach', 'LewisHamilton', 'LionelMessi', 'MacKenzieScott', 'ManuelNeuer', 'MaxVerstappen', 'Nena', 'OlafScholz', 'Rihanna', 'SebastianVettel', 'StefanRaab', 'TomCruise', 'WladimirPutin', 'XiJinping']\n"
     ]
    }
   ],
   "source": [
    "myPathHelper = os.getcwd() + '/images'                             \n",
    "folderList = os.listdir(myPathHelper)\n",
    "print(folderList)"
   ]
  },
  {
   "cell_type": "code",
   "execution_count": 75,
   "metadata": {},
   "outputs": [
    {
     "name": "stdout",
     "output_type": "stream",
     "text": [
      "AngelaMerkel\n",
      "AnnalenaBaerbock\n",
      "AnthonyFauci\n",
      "BarackObama\n",
      "ChrisPratt\n",
      "ChristianLindner\n",
      "CristianoRonaldo\n",
      "DonaldTrump\n",
      "DwayneJohnson\n",
      "EdSheeran\n",
      "ElonMusk\n",
      "ElyasM'barek\n",
      "GüntherJauch\n",
      "HeidiKlum\n",
      "HeleneFischer\n",
      "JeffBezos\n",
      "JoeBiden\n",
      "JudithRakers\n",
      "KarlLauterbach\n",
      "LewisHamilton\n",
      "LionelMessi\n",
      "MacKenzieScott\n",
      "ManuelNeuer\n",
      "MaxVerstappen\n",
      "Nena\n",
      "OlafScholz\n",
      "Rihanna\n",
      "SebastianVettel\n",
      "StefanRaab\n",
      "TomCruise\n",
      "WladimirPutin\n",
      "XiJinping\n"
     ]
    }
   ],
   "source": [
    "for folder in folderList:\n",
    "    print(folder)\n",
    "    myPath = myPathHelper + '/' + folder \n",
    "    myFiles = [f for f in os.listdir(myPath) if f.endswith('.jpg')]\n",
    "    random.shuffle(myFiles)\n",
    "    \n",
    "    for i, file in enumerate(myFiles):     \n",
    "        if(i <= int(len(myFiles) * 0.7)):\n",
    "            shutil.copy(f'{myPath}/{file}', f'{dataset}/train')\n",
    "            shutil.copy(f'{myPath}/{file.replace(\"jpg\", \"xml\")}', f'{dataset}/train')\n",
    "        elif(i > int(len(myFiles) * 0.7) and i <= int(len(myFiles) * 0.85)):\n",
    "            shutil.copy(f'{myPath}/{file}', f'{dataset}/val')\n",
    "            shutil.copy(f'{myPath}/{file.replace(\"jpg\", \"xml\")}', f'{dataset}/val')\n",
    "        else:\n",
    "            shutil.copy(f'{myPath}/{file}', f'{dataset}/test')\n",
    "            shutil.copy(f'{myPath}/{file.replace(\"jpg\", \"xml\")}', f'{dataset}/test')\n"
   ]
  },
  {
   "cell_type": "code",
   "execution_count": null,
   "metadata": {},
   "outputs": [],
   "source": []
  }
 ],
 "metadata": {
  "kernelspec": {
   "display_name": "Python 3",
   "language": "python",
   "name": "python3"
  },
  "language_info": {
   "codemirror_mode": {
    "name": "ipython",
    "version": 3
   },
   "file_extension": ".py",
   "mimetype": "text/x-python",
   "name": "python",
   "nbconvert_exporter": "python",
   "pygments_lexer": "ipython3",
   "version": "3.8.10"
  }
 },
 "nbformat": 4,
 "nbformat_minor": 2
}
