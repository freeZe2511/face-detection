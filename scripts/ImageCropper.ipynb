{
 "cells": [
  {
   "cell_type": "code",
   "execution_count": null,
   "metadata": {},
   "outputs": [],
   "source": [
    "from xml.etree import ElementTree\n",
    "from deepface import DeepFace\n",
    "from retinaface import RetinaFace\n",
    "import cv2, os\n",
    "import matplotlib.pyplot as plt\n",
    "import matplotlib.patches as patches"
   ]
  },
  {
   "cell_type": "code",
   "execution_count": null,
   "metadata": {},
   "outputs": [],
   "source": [
    "import ipynb.fs.full.helper as h\n",
    "\n",
    "from imp import reload\n",
    "reload(h)"
   ]
  },
  {
   "cell_type": "code",
   "execution_count": null,
   "metadata": {},
   "outputs": [],
   "source": [
    "for folder in h.imageFolderList:\n",
    "   \n",
    "    pathFolder = h.imagesVersion + '/' + folder \n",
    "    imageFolder = pathFolder + '/images/'\n",
    "    cropFolder = pathFolder + '/crop/'\n",
    "    \n",
    "    myFiles = [f for f in os.listdir(imageFolder) if f.endswith('.jpg')]\n",
    "    \n",
    "    print(folder)\n",
    "    \n",
    "    for file in range(len(myFiles)):\n",
    "        \n",
    "        if not os.path.exists(cropFolder):\n",
    "            os.mkdir(cropFolder)\n",
    "        \n",
    "        file_name = myFiles[file]\n",
    "        try:\n",
    "            \n",
    "            img = cv2.imread(imageFolder + file_name)\n",
    "            faces = RetinaFace.detect_faces(img)\n",
    "            \n",
    "            #print(faces)\n",
    "            \n",
    "            for i in range(len(faces)):\n",
    "                face = faces[f'face_{i+1}']['facial_area']\n",
    "                (xmin,ymin,xmax,ymax) = face\n",
    "                crop = img[ymin:ymax,xmin:xmax]\n",
    "                crop = cv2.resize(crop,(224,224))\n",
    "                \n",
    "            plt.imsave(cropFolder + file_name, cv2.cvtColor(crop, cv2.COLOR_RGB2BGR))\n",
    "            \n",
    "        except ValueError:\n",
    "            print(ValueError)\n",
    "            print(file_name)\n",
    "            \n",
    "        except TypeError:\n",
    "            print(file_name)"
   ]
  },
  {
   "cell_type": "code",
   "execution_count": null,
   "metadata": {},
   "outputs": [],
   "source": []
  }
 ],
 "metadata": {
  "kernelspec": {
   "display_name": "Python 3",
   "language": "python",
   "name": "python3"
  },
  "language_info": {
   "codemirror_mode": {
    "name": "ipython",
    "version": 3
   },
   "file_extension": ".py",
   "mimetype": "text/x-python",
   "name": "python",
   "nbconvert_exporter": "python",
   "pygments_lexer": "ipython3",
   "version": "3.8.10"
  }
 },
 "nbformat": 4,
 "nbformat_minor": 2
}
