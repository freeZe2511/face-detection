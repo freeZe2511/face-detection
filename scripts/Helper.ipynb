{
 "cells": [
  {
   "cell_type": "code",
   "execution_count": null,
   "metadata": {},
   "outputs": [],
   "source": [
    "import os, cv2, keras\n",
    "import pandas as pd"
   ]
  },
  {
   "cell_type": "code",
   "execution_count": null,
   "metadata": {},
   "outputs": [],
   "source": [
    "# define paths to work with\n",
    "path = os.getcwd()\n",
    "abspath = os.path.abspath(os.path.join(path, os.pardir))"
   ]
  },
  {
   "cell_type": "code",
   "execution_count": null,
   "metadata": {},
   "outputs": [],
   "source": [
    "# version for distinguishing models, data, etc\n",
    "version = \"v1\""
   ]
  },
  {
   "cell_type": "code",
   "execution_count": null,
   "metadata": {},
   "outputs": [],
   "source": [
    "# names for folders for the three different models\n",
    "tf_mm = \"tflite_mm\"\n",
    "od_mask = \"objdet_mask\"\n",
    "c_class = \"celeb_classifier\""
   ]
  },
  {
   "cell_type": "code",
   "execution_count": null,
   "metadata": {},
   "outputs": [],
   "source": [
    "# download images per celebrity (max 477)\n",
    "results = 5;"
   ]
  },
  {
   "cell_type": "code",
   "execution_count": null,
   "metadata": {},
   "outputs": [],
   "source": [
    "# image resize for training\n",
    "img_size = 224"
   ]
  },
  {
   "cell_type": "code",
   "execution_count": null,
   "metadata": {},
   "outputs": [],
   "source": [
    "# backups subfolder\n",
    "backupsPath = f'{abspath}/backups/'\n",
    "if not os.path.exists(backupsPath):\n",
    "    os.mkdir(backupsPath)\n",
    "    \n",
    "backupVersion = backupsPath + \"/\" + version\n",
    "if not os.path.exists(backupVersion):\n",
    "    os.mkdir(backupVersion)"
   ]
  },
  {
   "cell_type": "code",
   "execution_count": null,
   "metadata": {},
   "outputs": [],
   "source": [
    "# datasets subfolder\n",
    "datasetsPath = f'{abspath}/datasets'\n",
    "if not os.path.exists(datasetsPath):\n",
    "    os.mkdir(datasetsPath)\n",
    "    \n",
    "datasetsVersion = datasetsPath + \"/\" + version\n",
    "if not os.path.exists(datasetsVersion):\n",
    "    os.mkdir(datasetsVersion)\n",
    "    \n",
    "datasetsTf = datasetsVersion + \"/\" + tf_mm\n",
    "datasetsMask = datasetsVersion + \"/\" + od_mask\n",
    "datasetsCeleb = datasetsVersion + \"/\" + c_class\n",
    "\n",
    "if not os.path.exists(datasetsTf):\n",
    "    os.mkdir(datasetsTf)\n",
    "    \n",
    "tfTrain = datasetsTf + \"/train\"\n",
    "tfVal = datasetsTf + \"/val\"\n",
    "tfTest = datasetsTf + \"/test\"\n",
    "\n",
    "if not os.path.exists(tfTrain):\n",
    "    os.mkdir(tfTrain)\n",
    "if not os.path.exists(tfVal):\n",
    "    os.mkdir(tfVal)\n",
    "if not os.path.exists(tfTest):\n",
    "    os.mkdir(tfTest)\n",
    "    \n",
    "if not os.path.exists(datasetsMask):\n",
    "    os.mkdir(datasetsMask)\n",
    "    \n",
    "maskMasks = datasetsMask + \"/masks\"\n",
    "maskCaffe = datasetsMask + \"/caffe\"\n",
    "\n",
    "if not os.path.exists(maskMasks):\n",
    "    os.mkdir(maskMasks)\n",
    "\n",
    "if not os.path.exists(maskCaffe):\n",
    "    os.mkdir(maskCaffe)\n",
    "    \n",
    "if not os.path.exists(datasetsCeleb):\n",
    "    os.mkdir(datasetsCeleb)\n",
    "    \n",
    "celebTrain = datasetsCeleb + \"/train\"\n",
    "celebTest = datasetsCeleb + \"/test\"\n",
    "\n",
    "if not os.path.exists(celebTrain):\n",
    "    os.mkdir(celebTrain)\n",
    "\n",
    "if not os.path.exists(celebTest):\n",
    "    os.mkdir(celebTest)"
   ]
  },
  {
   "cell_type": "code",
   "execution_count": null,
   "metadata": {},
   "outputs": [],
   "source": [
    "# images subfolder\n",
    "imagesPath = f'{abspath}/images/'\n",
    "if not os.path.exists(imagesPath):\n",
    "    os.mkdir(imagesPath)\n",
    "    \n",
    "imagesVersion = imagesPath + \"/\" + version\n",
    "if not os.path.exists(imagesVersion):\n",
    "    os.mkdir(imagesVersion)\n",
    "    \n",
    "imagesMasks = imagesPath + \"/\" + \"masks\"\n",
    "if not os.path.exists(imagesMasks):\n",
    "    os.mkdir(imagesMasks)\n",
    "    \n",
    "imagesUnknown = imagesPath + \"/\" + \"unknown\"\n",
    "if not os.path.exists(imagesUnknown):\n",
    "    os.mkdir(imagesUnknown)\n",
    "    \n",
    "unknownOriginal = imagesUnknown + \"/\" + \"original\"\n",
    "if not os.path.exists(unknownOriginal):\n",
    "    os.mkdir(unknownOriginal)\n",
    "unknownCropped = imagesUnknown + \"/\" + \"crop\"\n",
    "if not os.path.exists(unknownCropped):\n",
    "    os.mkdir(unknownCropped)\n",
    "    \n",
    "imageFolderList = os.listdir(imagesVersion)"
   ]
  },
  {
   "cell_type": "code",
   "execution_count": null,
   "metadata": {},
   "outputs": [],
   "source": [
    "# models subfolder\n",
    "modelsPath = f'{abspath}/models/'\n",
    "if not os.path.exists(modelsPath):\n",
    "    os.mkdir(modelsPath)\n",
    "    \n",
    "modelsVersion = modelsPath + \"/\" + version\n",
    "if not os.path.exists(modelsVersion):\n",
    "    os.mkdir(modelsVersion)\n",
    "    \n",
    "modelsPretrained = modelsPath + \"/\" + \"pretrained\"\n",
    "if not os.path.exists(modelsPretrained):\n",
    "    os.mkdir(modelsPretrained)\n",
    "    \n",
    "modelsVTf = modelsVersion + \"/\" + tf_mm\n",
    "modelsVMask = modelsVersion + \"/\" + od_mask\n",
    "modelsVCeleb = modelsVersion + \"/\" + c_class\n",
    "if not os.path.exists(modelsVTf):\n",
    "    os.mkdir(modelsVTf)\n",
    "if not os.path.exists(modelsVMask):\n",
    "    os.mkdir(modelsVMask)\n",
    "if not os.path.exists(modelsVCeleb):\n",
    "    os.mkdir(modelsVCeleb)\n",
    "    \n",
    "modelsPTf = modelsPretrained + \"/\" + tf_mm\n",
    "modelsPMask = modelsPretrained + \"/\" + od_mask\n",
    "modelsPCeleb = modelsPretrained + \"/\" + c_class\n",
    "if not os.path.exists(modelsPTf):\n",
    "    os.mkdir(modelsPTf)\n",
    "if not os.path.exists(modelsPMask):\n",
    "    os.mkdir(modelsPMask)\n",
    "if not os.path.exists(modelsPCeleb):\n",
    "    os.mkdir(modelsPCeleb)"
   ]
  },
  {
   "cell_type": "code",
   "execution_count": null,
   "metadata": {},
   "outputs": [],
   "source": [
    "# tests subfolder\n",
    "testsPath = f'{abspath}/tests/'\n",
    "if not os.path.exists(testsPath):\n",
    "    os.mkdir(testsPath)\n",
    "    \n",
    "testsVersion = testsPath + \"/\" + version\n",
    "if not os.path.exists(testsVersion):\n",
    "    os.mkdir(testsVersion)\n",
    "    \n",
    "testsImages = testsVersion + \"/\" + \"images\"\n",
    "testsVideos = testsVersion + \"/\" + \"videos\"\n",
    "testsOptVideos = testsVersion + \"/\" + \"videos_optimized\"\n",
    "if not os.path.exists(testsImages):\n",
    "    os.mkdir(testsImages)\n",
    "if not os.path.exists(testsVideos):\n",
    "    os.mkdir(testsVideos)\n",
    "if not os.path.exists(testsOptVideos):\n",
    "    os.mkdir(testsOptVideos)"
   ]
  },
  {
   "cell_type": "code",
   "execution_count": null,
   "metadata": {},
   "outputs": [],
   "source": [
    "# For downloads\n",
    "celeb_file = open(\"./assets/list_promis.txt\", \"r\")\n",
    "query_array = celeb_file.read().split(',\\n')\n",
    "\n",
    "# For classifcation\n",
    "celeb_array = sorted(query_array)\n",
    "celeb_array.append(\"Unknown\")\n",
    "celeb_nbr = len(celeb_array)"
   ]
  },
  {
   "cell_type": "code",
   "execution_count": null,
   "metadata": {},
   "outputs": [],
   "source": [
    "# Paths for pretrained models\n",
    "tf_mm_pretrained = f\"{modelsPTf}/model.tflite\"\n",
    "obj_det_masks_pretrained = f\"{modelsPMask}/\"\n",
    "celeb_classifier_pretrained = f\"{modelsPCeleb}/\""
   ]
  },
  {
   "cell_type": "code",
   "execution_count": null,
   "metadata": {},
   "outputs": [],
   "source": [
    "# Mask requirements (Datasets needs to be manually downloaded from kaggle: https://www.kaggle.com/wobotintelligence/face-mask-detection-dataset)\n",
    "downloaded = False\n",
    "if(downloaded):\n",
    "    directory = f\"{maskMasks}/Medical mask/Medical mask/Medical Mask/annotations\"\n",
    "    OC_Net = cv2.dnn.readNetFromCaffe(f\"{maskCaffe}/architecture.txt\", f'{maskCaffe}/weights.caffemodel')\n",
    "    df = pd.read_csv(f\"{maskMasks}/train.csv\")\n",
    "    image_directory = f\"{maskMasks}/Medical mask/Medical mask/Medical Mask/images\"\n",
    "    image_test_directory = f\"{maskMasks}/Medical mask/Medical mask/Medical Mask/images/\""
   ]
  },
  {
   "cell_type": "code",
   "execution_count": null,
   "metadata": {},
   "outputs": [],
   "source": [
    "# General requirements (change to own trained models)\n",
    "classifier = keras.models.load_model(celeb_classifier_pretrained)\n",
    "maskModel = keras.models.load_model(obj_det_masks_pretrained)"
   ]
  },
  {
   "cell_type": "code",
   "execution_count": null,
   "metadata": {},
   "outputs": [],
   "source": []
  }
 ],
 "metadata": {
  "kernelspec": {
   "display_name": "Python 3",
   "language": "python",
   "name": "python3"
  },
  "language_info": {
   "codemirror_mode": {
    "name": "ipython",
    "version": 3
   },
   "file_extension": ".py",
   "mimetype": "text/x-python",
   "name": "python",
   "nbconvert_exporter": "python",
   "pygments_lexer": "ipython3",
   "version": "3.8.10"
  }
 },
 "nbformat": 4,
 "nbformat_minor": 2
}
