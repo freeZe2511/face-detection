{
 "cells": [
  {
   "cell_type": "code",
   "execution_count": null,
   "metadata": {},
   "outputs": [],
   "source": [
    "import ipynb.fs.full.helper as h\n",
    "\n",
    "from imp import reload\n",
    "reload(h)"
   ]
  },
  {
   "cell_type": "code",
   "execution_count": null,
   "metadata": {},
   "outputs": [],
   "source": [
    "import os, cv2\n",
    "from tensorflow import keras\n",
    "import numpy as np"
   ]
  },
  {
   "cell_type": "code",
   "execution_count": null,
   "metadata": {},
   "outputs": [],
   "source": [
    "test = h.celebTrain\n",
    "classifier = h.classifier"
   ]
  },
  {
   "cell_type": "code",
   "execution_count": null,
   "metadata": {},
   "outputs": [],
   "source": [
    "results = {}"
   ]
  },
  {
   "cell_type": "code",
   "execution_count": null,
   "metadata": {
    "scrolled": true
   },
   "outputs": [],
   "source": [
    "for folder in os.listdir(test):\n",
    "    \n",
    "    prob = 0\n",
    "    \n",
    "    print(folder)\n",
    "    files = os.listdir(test + \"/\" + folder)\n",
    "    \n",
    "    for i, file in enumerate(files):\n",
    "        crop = cv2.imread(test + \"/\" + folder + \"/\" + file)\n",
    "        crop = cv2.resize(crop,(224,224))\n",
    "        crop = np.reshape(crop,[1,224,224,3])/255.0\n",
    "        y_prob = classifier.predict(crop)\n",
    "        \n",
    "        index = h.celeb_array.index(folder)\n",
    "        res = y_prob[0][index]\n",
    "        print(res)\n",
    "        \n",
    "        prob += res\n",
    "    \n",
    "    results[f\"{folder}\"] = prob / (i+1)"
   ]
  },
  {
   "cell_type": "code",
   "execution_count": null,
   "metadata": {},
   "outputs": [],
   "source": [
    "dict(sorted(results.items(), key=lambda item: item[1]))"
   ]
  }
 ],
 "metadata": {
  "kernelspec": {
   "display_name": "Python 3",
   "language": "python",
   "name": "python3"
  },
  "language_info": {
   "codemirror_mode": {
    "name": "ipython",
    "version": 3
   },
   "file_extension": ".py",
   "mimetype": "text/x-python",
   "name": "python",
   "nbconvert_exporter": "python",
   "pygments_lexer": "ipython3",
   "version": "3.8.10"
  }
 },
 "nbformat": 4,
 "nbformat_minor": 2
}
