{
 "cells": [
  {
   "cell_type": "code",
   "execution_count": null,
   "metadata": {},
   "outputs": [],
   "source": [
    "import ipynb.fs.full.helper as h\n",
    "\n",
    "from imp import reload\n",
    "reload(h)"
   ]
  },
  {
   "cell_type": "code",
   "execution_count": null,
   "metadata": {},
   "outputs": [],
   "source": [
    "import cv2, os\n",
    "import matplotlib.pyplot as plt\n",
    "import numpy as np\n",
    "from retinaface import RetinaFace\n",
    "from tensorflow import keras\n",
    "import ffmpeg"
   ]
  },
  {
   "cell_type": "code",
   "execution_count": null,
   "metadata": {},
   "outputs": [],
   "source": [
    "def image_detect(file_path):\n",
    "    \n",
    "    image = cv2.imread(file_path)\n",
    "    \n",
    "    pic = detect4_2(image)\n",
    "    plt.imshow(cv2.cvtColor(pic, cv2.COLOR_RGB2BGR))\n",
    "    plt.axis('off')\n",
    "    plt.show()\n",
    "\n",
    "    cv2.imwrite(file_out, pic)"
   ]
  },
  {
   "cell_type": "code",
   "execution_count": null,
   "metadata": {},
   "outputs": [],
   "source": [
    "def video_detect(file_path):    \n",
    "    analyse(file_path, file_out)"
   ]
  },
  {
   "cell_type": "code",
   "execution_count": null,
   "metadata": {},
   "outputs": [],
   "source": [
    "def analyse(in_filename, out_filename):\n",
    "    \n",
    "    probe = ffmpeg.probe(in_filename)\n",
    "    height = probe['streams'][0]['height']\n",
    "    width = probe['streams'][0]['width']\n",
    "    nb_frames = probe['streams'][0]['nb_frames']    \n",
    "    \n",
    "    process1 = (\n",
    "    ffmpeg\n",
    "    .input(in_filename)\n",
    "    .output('pipe:', format='rawvideo', pix_fmt='rgb24', vframes=nb_frames)\n",
    "    .run_async(pipe_stdout=True)\n",
    "    )\n",
    "\n",
    "    process2 = (\n",
    "    ffmpeg\n",
    "    .input('pipe:', format='rawvideo', pix_fmt='rgb24', s='{}x{}'.format(width, height))\n",
    "    .output(out_filename, pix_fmt='yuv420p')\n",
    "    .overwrite_output()\n",
    "    .run_async(pipe_stdin=True)\n",
    "    )\n",
    "\n",
    "    while True:\n",
    "        in_bytes = process1.stdout.read(width * height * 3)\n",
    "        if not in_bytes:\n",
    "            break\n",
    "        in_frame = (\n",
    "            np\n",
    "            .frombuffer(in_bytes, np.uint8)\n",
    "            .reshape([height, width, 3])\n",
    "        )\n",
    "\n",
    "        # Analyse\n",
    "        out_frame = detect4_2(in_frame)\n",
    "\n",
    "        process2.stdin.write(\n",
    "            out_frame\n",
    "            .astype(np.uint8)\n",
    "            .tobytes()\n",
    "        )\n",
    "\n",
    "    process2.stdin.close()\n",
    "    process1.wait()\n",
    "    process2.wait()"
   ]
  },
  {
   "cell_type": "code",
   "execution_count": null,
   "metadata": {},
   "outputs": [],
   "source": [
    "def extract_face(face):\n",
    "    # resize pixels to the model size\n",
    "    image = Image.fromarray(face)\n",
    "    image = image.resize(required_size)\n",
    "    face_array = np.asarray(image)\n",
    "    return face_array\n",
    "\n",
    "def get_label(frame,img_size):\n",
    "    im = cv2.resize(frame,(img_size,img_size))\n",
    "    im = np.array(im)/255.0\n",
    "    im = im.reshape(1,img_size,img_size,3)\n",
    "    result = model.predict(im)\n",
    "    label_Y=1 if result>0.3 else 0\n",
    "    return label_Y,result"
   ]
  },
  {
   "cell_type": "code",
   "execution_count": null,
   "metadata": {},
   "outputs": [],
   "source": [
    "assign = {'0':'Mask','1':\"No Mask\"}\n",
    "\n",
    "def detect4_2(in_frame):\n",
    "\n",
    "    try:\n",
    "        image = in_frame\n",
    "        resultIMG = in_frame\n",
    "\n",
    "        faces = RetinaFace.detect_faces(image)\n",
    "                \n",
    "        for i in range(len(faces)):\n",
    "            \n",
    "            face = faces[f'face_{i+1}']['facial_area']\n",
    "            confidence_threshold = faces[f'face_{i+1}']['score']\n",
    "           \n",
    "            (xmin,ymin,xmax,ymax) = face\n",
    "            \n",
    "            crop = image[ymin:ymax,xmin:xmax]\n",
    "\n",
    "            # according to the confidence_threshold, to get the lable\n",
    "            if confidence_threshold > 0.7:\n",
    "                label_Y,result = get_label(crop,h.img_size)\n",
    "                \n",
    "                if (label_Y == 1):\n",
    "                    crop = cv2.resize(crop,(224,224))\n",
    "                    crop = np.reshape(crop,[1,224,224,3])/255.0\n",
    "                    y_prob = classifier.predict(crop)\n",
    "                    y_classes = y_prob.argmax(axis=-1)\n",
    "                    prob = y_prob[0][y_classes][0]\n",
    "                    \n",
    "                    label = h.celeb_array[y_classes[0]]\n",
    "                        \n",
    "                    cv2.rectangle(resultIMG, (xmin, ymin), (xmax, ymax), (0, 0, 255), 2)\n",
    "                    cv2.putText(resultIMG, f'{label}: ' + \"{:.4}\".format(float(prob)) , \n",
    "                                    (xmin, ymin-10), cv2.FONT_HERSHEY_SIMPLEX, 0.75, colorPercentage(prob),2)\n",
    "\n",
    "                    \n",
    "                else:\n",
    "                # add the Text\n",
    "                    cv2.rectangle(resultIMG, (xmin, ymin), (xmax, ymax), (0, 0, 255), 2)\n",
    "                    cv2.putText(resultIMG, assign[str(label_Y)] , (xmin, ymin-10), cv2.FONT_HERSHEY_SIMPLEX, 1, (36,255,12), 2)\n",
    "\n",
    "        return resultIMG\n",
    "        \n",
    "    except ValueError:\n",
    "        print(ValueError)\n",
    "        #print(framePath + frame)\n",
    "        \n",
    "    except Exception as e:\n",
    "        print(e)\n",
    "        return in_frame\n",
    "        \n",
    "    except TypeError:\n",
    "        return in_frame"
   ]
  },
  {
   "cell_type": "code",
   "execution_count": null,
   "metadata": {},
   "outputs": [],
   "source": [
    "def colorPercentage(pct):\n",
    "    pct_diff = 1.0 - pct\n",
    "    r = min(255, pct_diff*2 * 255)\n",
    "    g = min(255, pct*2 * 255)\n",
    "    return (r, g, 0)"
   ]
  },
  {
   "cell_type": "code",
   "execution_count": null,
   "metadata": {},
   "outputs": [],
   "source": [
    "model = h.maskModel\n",
    "classifier = h.classifier"
   ]
  },
  {
   "cell_type": "code",
   "execution_count": null,
   "metadata": {},
   "outputs": [],
   "source": [
    "file_name = \"brangelina2.jpg\"\n",
    "\n",
    "# is file vid or image? TODO\n",
    "test_type = h.testsImages\n",
    "#test_type = h.testsVideos\n",
    "\n",
    "file_path = test_type + \"/\" + file_name\n",
    "file_out = test_type + \"/\" + f'OUT_{file_name}'\n",
    "\n",
    "if os.path.isfile(file_path):\n",
    "    file_extension = os.path.splitext(file_path)[1]\n",
    "    if file_extension.lower() in {'.mp4'}:\n",
    "        video_detect(file_path)\n",
    "    elif file_extension.lower() in {'.jpg', '.jpeg', '.png'}:\n",
    "        image_detect(file_path)"
   ]
  },
  {
   "cell_type": "code",
   "execution_count": null,
   "metadata": {},
   "outputs": [],
   "source": []
  }
 ],
 "metadata": {
  "kernelspec": {
   "display_name": "Python 3",
   "language": "python",
   "name": "python3"
  },
  "language_info": {
   "codemirror_mode": {
    "name": "ipython",
    "version": 3
   },
   "file_extension": ".py",
   "mimetype": "text/x-python",
   "name": "python",
   "nbconvert_exporter": "python",
   "pygments_lexer": "ipython3",
   "version": "3.8.10"
  }
 },
 "nbformat": 4,
 "nbformat_minor": 2
}
