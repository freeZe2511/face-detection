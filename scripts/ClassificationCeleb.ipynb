{
 "cells": [
  {
   "cell_type": "code",
   "execution_count": null,
   "metadata": {},
   "outputs": [],
   "source": [
    "import ipynb.fs.full.helper as h\n",
    "\n",
    "from imp import reload\n",
    "reload(h)"
   ]
  },
  {
   "cell_type": "code",
   "execution_count": 4,
   "metadata": {},
   "outputs": [],
   "source": [
    "import os, cv2, shutil, random\n",
    "import matplotlib.pyplot as plt\n",
    "import matplotlib.patches as patches\n",
    "import pandas as pd\n",
    "import numpy as np\n",
    "from deepface import DeepFace\n",
    "from retinaface import RetinaFace"
   ]
  },
  {
   "cell_type": "code",
   "execution_count": null,
   "metadata": {},
   "outputs": [],
   "source": [
    "## get unknown pictures???"
   ]
  },
  {
   "cell_type": "code",
   "execution_count": null,
   "metadata": {},
   "outputs": [],
   "source": [
    "original = '/tf/src/imagesUnknown/imagesUnknownOriginal/'\n",
    "cropped = '/tf/src/imagesUnknown/imagesUnknownCropped2/'\n",
    "\n",
    "myFiles = [f for f in os.listdir(original) if f.endswith('.jpg')]\n",
    "    \n",
    "for file in range(len(myFiles)):\n",
    "        \n",
    "    if not os.path.exists(cropped):\n",
    "        os.mkdir(cropped)\n",
    "    \n",
    "    file_name = myFiles[file]\n",
    "    try:\n",
    "            #face = DeepFace.detectFace(img_path = imageFolder + file_name, target_size = (224, 224), detector_backend = \"dlib\")\n",
    "            \n",
    "            \n",
    "        img = cv2.imread(original + file_name)\n",
    "            \n",
    "        faces = RetinaFace.detect_faces(img)\n",
    "            \n",
    "            #print(faces)\n",
    "            \n",
    "        for i in range(len(faces)):\n",
    "            face = faces[f'face_{i+1}']['facial_area']\n",
    "            (xmin,ymin,xmax,ymax) = face\n",
    "            crop = img[ymin:ymax,xmin:xmax]\n",
    "            crop = cv2.resize(crop,(224,224))\n",
    "                \n",
    "        plt.imsave(cropped + file_name, cv2.cvtColor(crop, cv2.COLOR_RGB2BGR))\n",
    "    except ValueError:\n",
    "        print(ValueError)\n",
    "        print(file_name)\n",
    "            \n",
    "    except TypeError:\n",
    "        print(file_name)"
   ]
  },
  {
   "cell_type": "code",
   "execution_count": null,
   "metadata": {},
   "outputs": [],
   "source": [
    "for folder in folderList:\n",
    "    print(folder)\n",
    "    pathFolder = pathImageFolder + '/' + folder \n",
    "    imageFolder = pathFolder + '/crop3/'\n",
    "    #labelFolder = pathFolder + '/labels/' \n",
    "    myFiles = [f for f in os.listdir(imageFolder) if f.endswith('.jpg')]\n",
    "    random.shuffle(myFiles)\n",
    "    \n",
    "    for i, file in enumerate(myFiles):\n",
    "        if(i <= int(len(myFiles) * 0.7)):\n",
    "            if not os.path.exists(f'{dataset}/train/{folder}'):\n",
    "                os.mkdir(f'{dataset}/train/{folder}')\n",
    "            shutil.copy(f'{imageFolder}/{file}', f'{dataset}/train/{folder}/{file}')\n",
    "            #shutil.copy(f'{labelFolder}/{file.replace(\"jpg\", \"xml\")}', f'{dataset}/train')\n",
    "        elif(i > int(len(myFiles) * 0.7) and i <= int(len(myFiles) * 0.85)):\n",
    "            if not os.path.exists(f'{dataset}/val/{folder}'):\n",
    "                os.mkdir(f'{dataset}/val/{folder}')\n",
    "            shutil.copy(f'{imageFolder}/{file}', f'{dataset}/val/{folder}/{file}')\n",
    "            #shutil.copy(f'{labelFolder}/{file.replace(\"jpg\", \"xml\")}', f'{dataset}/val')\n",
    "        else:\n",
    "            if not os.path.exists(f'{dataset}/test/{folder}'):\n",
    "                os.mkdir(f'{dataset}/test/{folder}')\n",
    "            shutil.copy(f'{imageFolder}/{file}', f'{dataset}/test/{folder}/{file}')\n",
    "            #shutil.copy(f'{labelFolder}/{file.replace(\"jpg\", \"xml\")}', f'{dataset}/test')"
   ]
  },
  {
   "cell_type": "code",
   "execution_count": null,
   "metadata": {},
   "outputs": [],
   "source": [
    "    imageFolder = '/tf/src/imagesUnknown/imagesUnknownCropped2'\n",
    "    folder = 'Unknown'\n",
    "\n",
    "    myFiles = [f for f in os.listdir(imageFolder) if f.endswith('.jpg')]\n",
    "    random.shuffle(myFiles)\n",
    "    \n",
    "    for i, file in enumerate(myFiles):\n",
    "        if(i <= int(len(myFiles) * 0.7)):\n",
    "            if not os.path.exists(f'{dataset}/train/{folder}'):\n",
    "                os.mkdir(f'{dataset}/train/{folder}')\n",
    "            shutil.copy(f'{imageFolder}/{file}', f'{dataset}/train/{folder}/{file}')\n",
    "            #shutil.copy(f'{labelFolder}/{file.replace(\"jpg\", \"xml\")}', f'{dataset}/train')\n",
    "        elif(i > int(len(myFiles) * 0.7) and i <= int(len(myFiles) * 0.85)):\n",
    "            if not os.path.exists(f'{dataset}/val/{folder}'):\n",
    "                os.mkdir(f'{dataset}/val/{folder}')\n",
    "            shutil.copy(f'{imageFolder}/{file}', f'{dataset}/val/{folder}/{file}')\n",
    "            #shutil.copy(f'{labelFolder}/{file.replace(\"jpg\", \"xml\")}', f'{dataset}/val')\n",
    "        else:\n",
    "            if not os.path.exists(f'{dataset}/test/{folder}'):\n",
    "                os.mkdir(f'{dataset}/test/{folder}')\n",
    "            shutil.copy(f'{imageFolder}/{file}', f'{dataset}/test/{folder}/{file}')\n",
    "            #shutil.copy(f'{labelFolder}/{file.replace(\"jpg\", \"xml\")}', f'{dataset}/test')\n"
   ]
  },
  {
   "cell_type": "code",
   "execution_count": null,
   "metadata": {},
   "outputs": [],
   "source": [
    "##############################################"
   ]
  },
  {
   "cell_type": "code",
   "execution_count": null,
   "metadata": {},
   "outputs": [],
   "source": [
    "import tensorflow as tf\n",
    "from tensorflow.keras.applications import MobileNetV2\n",
    "from tensorflow.keras.preprocessing.image import ImageDataGenerator\n",
    "rows=224  #Number of Pixels in the Rows for Input. \n",
    "cols=224  #Number of Pixels in Columns for Output"
   ]
  },
  {
   "cell_type": "code",
   "execution_count": null,
   "metadata": {},
   "outputs": [],
   "source": [
    "trained_model=MobileNetV2(input_shape=(rows,cols,3),           \n",
    "                    include_top=False,\n",
    "                    weights='imagenet')   \n",
    "\n",
    "\n",
    "trained_model.trainable=True  #Un-Freeze all the pretrained layers of 'MobileNetV2 for Training.\n",
    "    \n",
    "trained_model.summary()"
   ]
  },
  {
   "cell_type": "code",
   "execution_count": null,
   "metadata": {},
   "outputs": [],
   "source": [
    "last_layer=trained_model.get_layer('out_relu')   \n",
    "last_layer_output=last_layer.output "
   ]
  },
  {
   "cell_type": "code",
   "execution_count": null,
   "metadata": {},
   "outputs": [],
   "source": [
    "train_datagen = ImageDataGenerator(rescale=1/255,\n",
    "\n",
    "                                shear_range=0.2,\n",
    "                                zoom_range=0.2,\n",
    "                                horizontal_flip=True,\n",
    "                                rotation_range=20,\n",
    "                                width_shift_range=0.1,\n",
    "                                height_shift_range=0.1)\n",
    "                                 \n",
    "test_datagen = ImageDataGenerator(rescale=1/255)\n",
    "\n",
    "train_generator=train_datagen.flow_from_directory(f'{dataset}/train',\n",
    "                                                  target_size=(rows,cols),\n",
    "                                                  class_mode='categorical')\n",
    "\n",
    "test_generator=test_datagen.flow_from_directory(f'{dataset}/test',\n",
    "                                                target_size=(rows,cols),\n",
    "                                                class_mode='categorical')"
   ]
  },
  {
   "cell_type": "code",
   "execution_count": null,
   "metadata": {},
   "outputs": [],
   "source": [
    "x = tf.keras.layers.GlobalAveragePooling2D()(last_layer_output)\n",
    "#Add a Dropout layer.\n",
    "x = tf.keras.layers.Dropout(0.2)(x)                      \n",
    "# Add a final softmax layer for classification.\n",
    "x = tf.keras.layers.Dense(73,activation='softmax')(x)\n",
    "\n",
    "\n",
    "# todo inject labels?\n",
    "# https://stackoverflow.com/questions/44310448/attaching-class-labels-to-a-keras-model\n",
    "\n",
    "model = tf.keras.Model(trained_model.input,x) \n",
    "\n",
    "model.compile(loss='categorical_crossentropy',\n",
    "              optimizer=tf.keras.optimizers.Adam(1e-4),\n",
    "              metrics=['accuracy'])\n",
    "#Summary of the model.\n",
    "model.summary()"
   ]
  },
  {
   "cell_type": "code",
   "execution_count": null,
   "metadata": {},
   "outputs": [],
   "source": [
    "result=model.fit(train_generator,\n",
    "                 validation_data=test_generator,\n",
    "                 epochs=10,\n",
    "                 verbose=1)"
   ]
  },
  {
   "cell_type": "code",
   "execution_count": null,
   "metadata": {},
   "outputs": [],
   "source": [
    "import matplotlib.pyplot as plt\n",
    "\n",
    "acc = result.history['accuracy']\n",
    "val_acc = result.history['val_accuracy']\n",
    "\n",
    "loss = result.history['loss']\n",
    "val_loss = result.history['val_loss']\n",
    "\n",
    "epochs_range = range(10)\n",
    "\n",
    "plt.figure(figsize=(9, 8))\n",
    "plt.subplot(1, 2, 1)\n",
    "plt.plot(epochs_range, acc, label='Training Accuracy')\n",
    "plt.plot(epochs_range, val_acc, label='Validation Accuracy')\n",
    "plt.legend(loc='lower right')\n",
    "plt.title('Training and Validation Accuracy')\n",
    "\n",
    "plt.subplot(1, 2, 2)\n",
    "plt.plot(epochs_range, loss, label='Training Loss')\n",
    "plt.plot(epochs_range, val_loss, label='Validation Loss')\n",
    "plt.legend(loc='upper right')\n",
    "plt.title('Training and Validation Loss')\n",
    "plt.show()"
   ]
  },
  {
   "cell_type": "code",
   "execution_count": null,
   "metadata": {},
   "outputs": [],
   "source": [
    "model.save(f'{abspath}/models/classification/newClass/v9/v6/')"
   ]
  },
  {
   "cell_type": "code",
   "execution_count": null,
   "metadata": {},
   "outputs": [],
   "source": [
    "model.evaluate(test_generator)"
   ]
  }
 ],
 "metadata": {
  "kernelspec": {
   "display_name": "Python 3",
   "language": "python",
   "name": "python3"
  },
  "language_info": {
   "codemirror_mode": {
    "name": "ipython",
    "version": 3
   },
   "file_extension": ".py",
   "mimetype": "text/x-python",
   "name": "python",
   "nbconvert_exporter": "python",
   "pygments_lexer": "ipython3",
   "version": "3.8.10"
  }
 },
 "nbformat": 4,
 "nbformat_minor": 2
}
