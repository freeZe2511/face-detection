{
 "cells": [
  {
   "cell_type": "code",
   "execution_count": 1,
   "metadata": {},
   "outputs": [],
   "source": [
    "import os, random, shutil"
   ]
  },
  {
   "cell_type": "code",
   "execution_count": 2,
   "metadata": {},
   "outputs": [],
   "source": [
    "path = os.getcwd()\n",
    "abspath = os.path.abspath(os.path.join(path, os.pardir))"
   ]
  },
  {
   "cell_type": "code",
   "execution_count": 3,
   "metadata": {},
   "outputs": [
    {
     "name": "stdout",
     "output_type": "stream",
     "text": [
      "/tf/src/datasetV2\n"
     ]
    }
   ],
   "source": [
    "dataset = f'{abspath}/datasetV2' \n",
    "if not os.path.exists(dataset):\n",
    "    print(dataset)\n",
    "    os.mkdir(dataset)\n",
    "    os.mkdir(f'{dataset}/train')\n",
    "    os.mkdir(f'{dataset}/val')\n",
    "    os.mkdir(f'{dataset}/test')"
   ]
  },
  {
   "cell_type": "code",
   "execution_count": 5,
   "metadata": {},
   "outputs": [
    {
     "name": "stdout",
     "output_type": "stream",
     "text": [
      "['AngelaMerkel', 'AnnalenaBaerbock', 'AnthonyFauci', 'ArnoldSchwarzenegger', 'BarackObama', 'BenedictCumberbatch', 'BradPitt', 'ChadwickBoseman', 'ChrisHemsworth', 'ChrisPratt', 'ChristianBale', 'ChristianLindner', 'CristianoRonaldo', 'DenzelWashington', 'DonaldTrump', 'DwayneJohnson', 'EdSheeran', 'ElonMusk', \"ElyasM'barek\", 'GeorgeClooney', 'GüntherJauch', 'HeidiKlum', 'HeleneFischer', 'JasonMomoa', 'JeffBezos', 'JoeBiden', 'JudithRakers', 'KarlLauterbach', 'KobeBryant', 'LeBronJames', 'LeonardoDiCaprio', 'LewisHamilton', 'LionelMessi', 'MacKenzieScott', 'ManuelNeuer', 'MaxVerstappen', 'MichaelJackson', 'MichaelJordan', 'MorganFreeman', 'NovakDjokovic', 'OlafScholz', 'RafaelNadal', 'RobertDowneyJr', 'RogerFederer', 'SebastianVettel', \"ShaquilleO'Neal\", 'StefanRaab', 'SylvesterStallone', 'TomCruise', 'TomHanks', 'TomHardy', 'TomHiddleston', 'VinDiesel', 'WillSmith', 'WladimirPutin', 'XiJinping']\n"
     ]
    }
   ],
   "source": [
    "pathImageFolder = abspath + '/imagesV2'                             \n",
    "folderList = os.listdir(pathImageFolder)\n",
    "print(folderList)"
   ]
  },
  {
   "cell_type": "code",
   "execution_count": 6,
   "metadata": {},
   "outputs": [
    {
     "name": "stdout",
     "output_type": "stream",
     "text": [
      "AngelaMerkel\n",
      "AnnalenaBaerbock\n",
      "AnthonyFauci\n",
      "ArnoldSchwarzenegger\n",
      "BarackObama\n",
      "BenedictCumberbatch\n",
      "BradPitt\n",
      "ChadwickBoseman\n",
      "ChrisHemsworth\n",
      "ChrisPratt\n",
      "ChristianBale\n",
      "ChristianLindner\n",
      "CristianoRonaldo\n",
      "DenzelWashington\n",
      "DonaldTrump\n",
      "DwayneJohnson\n",
      "EdSheeran\n",
      "ElonMusk\n",
      "ElyasM'barek\n",
      "GeorgeClooney\n",
      "GüntherJauch\n",
      "HeidiKlum\n",
      "HeleneFischer\n",
      "JasonMomoa\n",
      "JeffBezos\n",
      "JoeBiden\n",
      "JudithRakers\n",
      "KarlLauterbach\n",
      "KobeBryant\n",
      "LeBronJames\n",
      "LeonardoDiCaprio\n",
      "LewisHamilton\n",
      "LionelMessi\n",
      "MacKenzieScott\n",
      "ManuelNeuer\n",
      "MaxVerstappen\n",
      "MichaelJackson\n",
      "MichaelJordan\n",
      "MorganFreeman\n",
      "NovakDjokovic\n",
      "OlafScholz\n",
      "RafaelNadal\n",
      "RobertDowneyJr\n",
      "RogerFederer\n",
      "SebastianVettel\n",
      "ShaquilleO'Neal\n",
      "StefanRaab\n",
      "SylvesterStallone\n",
      "TomCruise\n",
      "TomHanks\n",
      "TomHardy\n",
      "TomHiddleston\n",
      "VinDiesel\n",
      "WillSmith\n",
      "WladimirPutin\n",
      "XiJinping\n"
     ]
    }
   ],
   "source": [
    "for folder in folderList:\n",
    "    print(folder)\n",
    "    pathFolder = pathImageFolder + '/' + folder \n",
    "    imageFolder = pathFolder + '/images/'\n",
    "    labelFolder = pathFolder + '/labels/' \n",
    "    myFiles = [f for f in os.listdir(imageFolder) if f.endswith('.jpg')]\n",
    "    random.shuffle(myFiles)\n",
    "    \n",
    "    for i, file in enumerate(myFiles):\n",
    "        if(i <= int(len(myFiles) * 0.7)):\n",
    "            shutil.copy(f'{imageFolder}/{file}', f'{dataset}/train')\n",
    "            shutil.copy(f'{labelFolder}/{file.replace(\"jpg\", \"xml\")}', f'{dataset}/train')\n",
    "        elif(i > int(len(myFiles) * 0.7) and i <= int(len(myFiles) * 0.85)):\n",
    "            shutil.copy(f'{imageFolder}/{file}', f'{dataset}/val')\n",
    "            shutil.copy(f'{labelFolder}/{file.replace(\"jpg\", \"xml\")}', f'{dataset}/val')\n",
    "        else:\n",
    "            shutil.copy(f'{imageFolder}/{file}', f'{dataset}/test')\n",
    "            shutil.copy(f'{labelFolder}/{file.replace(\"jpg\", \"xml\")}', f'{dataset}/test')\n"
   ]
  },
  {
   "cell_type": "code",
   "execution_count": null,
   "metadata": {},
   "outputs": [],
   "source": []
  }
 ],
 "metadata": {
  "kernelspec": {
   "display_name": "Python 3",
   "language": "python",
   "name": "python3"
  },
  "language_info": {
   "codemirror_mode": {
    "name": "ipython",
    "version": 3
   },
   "file_extension": ".py",
   "mimetype": "text/x-python",
   "name": "python",
   "nbconvert_exporter": "python",
   "pygments_lexer": "ipython3",
   "version": "3.8.10"
  }
 },
 "nbformat": 4,
 "nbformat_minor": 2
}
