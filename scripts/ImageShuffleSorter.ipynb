{
 "cells": [
  {
   "cell_type": "code",
   "execution_count": null,
   "metadata": {},
   "outputs": [],
   "source": [
    "import os, random, shutil"
   ]
  },
  {
   "cell_type": "code",
   "execution_count": null,
   "metadata": {},
   "outputs": [],
   "source": [
    "import ipynb.fs.full.helper as h\n",
    "\n",
    "from imp import reload\n",
    "reload(h)"
   ]
  },
  {
   "cell_type": "code",
   "execution_count": null,
   "metadata": {},
   "outputs": [],
   "source": [
    "for folder in h.imageFolderList:\n",
    "    print(folder)\n",
    "    \n",
    "    pathFolder = h.imagesVersion + '/' + folder \n",
    "    imageFolder = pathFolder + '/images'\n",
    "    labelFolder = pathFolder + '/labels' \n",
    "    myFiles = [f for f in os.listdir(imageFolder) if f.endswith('.jpg')]\n",
    "    random.shuffle(myFiles)\n",
    "    \n",
    "    for i, file in enumerate(myFiles):\n",
    "        if(i <= int(len(myFiles) * 0.7)):\n",
    "            shutil.copy(f'{imageFolder}/{file}', h.tfTrain)\n",
    "            shutil.copy(f'{labelFolder}/{file.replace(\"jpg\", \"xml\")}', h.tfTrain)\n",
    "        elif(i > int(len(myFiles) * 0.7) and i <= int(len(myFiles) * 0.85)):\n",
    "            shutil.copy(f'{imageFolder}/{file}', h.tfVal)\n",
    "            shutil.copy(f'{labelFolder}/{file.replace(\"jpg\", \"xml\")}', h.tfVal)\n",
    "        else:\n",
    "            shutil.copy(f'{imageFolder}/{file}', h.tfTest)\n",
    "            shutil.copy(f'{labelFolder}/{file.replace(\"jpg\", \"xml\")}', h.tfTest)\n"
   ]
  },
  {
   "cell_type": "code",
   "execution_count": null,
   "metadata": {},
   "outputs": [],
   "source": []
  }
 ],
 "metadata": {
  "kernelspec": {
   "display_name": "Python 3",
   "language": "python",
   "name": "python3"
  },
  "language_info": {
   "codemirror_mode": {
    "name": "ipython",
    "version": 3
   },
   "file_extension": ".py",
   "mimetype": "text/x-python",
   "name": "python",
   "nbconvert_exporter": "python",
   "pygments_lexer": "ipython3",
   "version": "3.8.10"
  }
 },
 "nbformat": 4,
 "nbformat_minor": 2
}
