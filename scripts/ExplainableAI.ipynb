{
 "cells": [
  {
   "cell_type": "code",
   "execution_count": null,
   "metadata": {},
   "outputs": [],
   "source": [
    "import ipynb.fs.full.helper as h\n",
    "\n",
    "from imp import reload\n",
    "reload(h)"
   ]
  },
  {
   "cell_type": "code",
   "execution_count": null,
   "metadata": {},
   "outputs": [],
   "source": [
    "import matplotlib.pylab as plt\n",
    "import numpy as np\n",
    "import tensorflow as tf\n",
    "import tensorflow_hub as hub\n",
    "import cv2, keras"
   ]
  },
  {
   "cell_type": "code",
   "execution_count": null,
   "metadata": {},
   "outputs": [],
   "source": [
    "# Import explainer\n",
    "from tf_explain.core.grad_cam import GradCAM\n",
    "#from tf_explain.core.occlusion_sensitivity import OcclusionSensitivity\n",
    "\n",
    "classifier = h.classifier\n",
    "\n",
    "\n",
    "# Instantiation of the explainer\n",
    "explainer = GradCAM()\n",
    "#explainer = OcclusionSensitivity()\n",
    "\n",
    "file_name = \"fischer.jpg\"\n",
    "IMAGE_PATH = h.testsImages + \"/\" + file_name\n",
    "\n",
    "img = tf.keras.preprocessing.image.load_img(IMAGE_PATH, target_size=(224, 224))\n",
    "img = tf.keras.preprocessing.image.img_to_array(img)\n",
    "data = ([img], None)\n",
    "\n",
    "# index of label\n",
    "class_index = 2\n",
    "\n",
    "# Call to explain() method\n",
    "output = explainer.explain(data, classifier, class_index=class_index)\n",
    "\n",
    "output_dir = h.testsImages\n",
    "output_name = f\"GradCAM_{file_name}\"\n",
    "\n",
    "# Save output\n",
    "explainer.save(output, output_dir, output_name)\n",
    "\n",
    "plt.imshow(output)\n",
    "plt.axis('off')\n",
    "plt.show()"
   ]
  },
  {
   "cell_type": "code",
   "execution_count": null,
   "metadata": {},
   "outputs": [],
   "source": [
    "################################\n",
    "# https://www.tensorflow.org/tutorials/interpretability/integrated_gradients"
   ]
  },
  {
   "cell_type": "code",
   "execution_count": null,
   "metadata": {},
   "outputs": [],
   "source": [
    "baseline = tf.zeros(shape=(224,224,3))\n",
    "plt.imshow(baseline)\n",
    "plt.title(\"Baseline\")\n",
    "plt.axis('off')\n",
    "plt.show()"
   ]
  },
  {
   "cell_type": "code",
   "execution_count": null,
   "metadata": {},
   "outputs": [],
   "source": [
    "m_steps=50\n",
    "alphas = tf.linspace(start=0.0, stop=1.0, num=m_steps+1) # Generate m_steps intervals for integral_approximation() below."
   ]
  },
  {
   "cell_type": "code",
   "execution_count": null,
   "metadata": {},
   "outputs": [],
   "source": [
    "def interpolate_images(baseline,\n",
    "                       image,\n",
    "                       alphas):\n",
    "  alphas_x = alphas[:, tf.newaxis, tf.newaxis, tf.newaxis]\n",
    "  baseline_x = tf.expand_dims(baseline, axis=0)\n",
    "  input_x = tf.expand_dims(image, axis=0)\n",
    "  delta = input_x - baseline_x\n",
    "  images = baseline_x +  alphas_x * delta\n",
    "  return images"
   ]
  },
  {
   "cell_type": "code",
   "execution_count": null,
   "metadata": {},
   "outputs": [],
   "source": [
    "def read_image(file_name):\n",
    "  image = tf.io.read_file(file_name)\n",
    "  image = tf.io.decode_jpeg(image, channels=3)\n",
    "  image = tf.image.convert_image_dtype(image, tf.float32)\n",
    "  image = tf.image.resize_with_pad(image, target_height=224, target_width=224)\n",
    "  return image"
   ]
  },
  {
   "cell_type": "code",
   "execution_count": null,
   "metadata": {},
   "outputs": [],
   "source": [
    "interpolated_images = interpolate_images(\n",
    "    baseline=baseline,\n",
    "    image=read_image(IMAGE_PATH),\n",
    "    alphas=alphas)"
   ]
  },
  {
   "cell_type": "code",
   "execution_count": null,
   "metadata": {},
   "outputs": [],
   "source": [
    "fig = plt.figure(figsize=(20, 20))\n",
    "\n",
    "i = 0\n",
    "for alpha, image in zip(alphas[0::10], interpolated_images[0::10]):\n",
    "  i += 1\n",
    "  plt.subplot(1, len(alphas[0::10]), i)\n",
    "  plt.title(f'alpha: {alpha:.1f}')\n",
    "  plt.imshow(image)\n",
    "  plt.axis('off')\n",
    "\n",
    "plt.show()"
   ]
  },
  {
   "cell_type": "code",
   "execution_count": null,
   "metadata": {},
   "outputs": [],
   "source": [
    "def compute_gradients(images, target_class_idx):\n",
    "  with tf.GradientTape() as tape:\n",
    "    tape.watch(images)\n",
    "    logits = model(images)\n",
    "    probs = tf.nn.softmax(logits, axis=-1)[:, target_class_idx]\n",
    "  return tape.gradient(probs, images)"
   ]
  },
  {
   "cell_type": "code",
   "execution_count": null,
   "metadata": {},
   "outputs": [],
   "source": [
    "model = classifier"
   ]
  },
  {
   "cell_type": "code",
   "execution_count": null,
   "metadata": {},
   "outputs": [],
   "source": [
    "path_gradients = compute_gradients(\n",
    "    images=interpolated_images,\n",
    "    target_class_idx=class_index)"
   ]
  },
  {
   "cell_type": "code",
   "execution_count": null,
   "metadata": {},
   "outputs": [],
   "source": [
    "print(path_gradients.shape)"
   ]
  },
  {
   "cell_type": "code",
   "execution_count": null,
   "metadata": {},
   "outputs": [],
   "source": [
    "pred = model(interpolated_images)\n",
    "pred_proba = tf.nn.softmax(pred, axis=-1)[:, class_index]"
   ]
  },
  {
   "cell_type": "code",
   "execution_count": null,
   "metadata": {},
   "outputs": [],
   "source": [
    "plt.figure(figsize=(10, 4))\n",
    "ax1 = plt.subplot(1, 2, 1)\n",
    "ax1.plot(alphas, pred_proba)\n",
    "ax1.set_title('Target class predicted probability over alpha')\n",
    "ax1.set_ylabel('model p(target class)')\n",
    "ax1.set_xlabel('alpha')\n",
    "ax1.set_ylim([0, 1])\n",
    "\n",
    "ax2 = plt.subplot(1, 2, 2)\n",
    "# Average across interpolation steps\n",
    "average_grads = tf.reduce_mean(path_gradients, axis=[1, 2, 3])\n",
    "# Normalize gradients to 0 to 1 scale. E.g. (x - min(x))/(max(x)-min(x))\n",
    "average_grads_norm = (average_grads-tf.math.reduce_min(average_grads))/(tf.math.reduce_max(average_grads)-tf.reduce_min(average_grads))\n",
    "ax2.plot(alphas, average_grads_norm)\n",
    "ax2.set_title('Average pixel gradients (normalized) over alpha')\n",
    "ax2.set_ylabel('Average pixel gradients')\n",
    "ax2.set_xlabel('alpha')\n",
    "ax2.set_ylim([0, 1]);\n",
    "\n",
    "plt.show()"
   ]
  },
  {
   "cell_type": "code",
   "execution_count": null,
   "metadata": {},
   "outputs": [],
   "source": [
    "def integral_approximation(gradients):\n",
    "  # riemann_trapezoidal\n",
    "  grads = (gradients[:-1] + gradients[1:]) / tf.constant(2.0)\n",
    "  integrated_gradients = tf.math.reduce_mean(grads, axis=0)\n",
    "  return integrated_gradients"
   ]
  },
  {
   "cell_type": "code",
   "execution_count": null,
   "metadata": {},
   "outputs": [],
   "source": [
    "ig = integral_approximation(\n",
    "    gradients=path_gradients)"
   ]
  },
  {
   "cell_type": "code",
   "execution_count": null,
   "metadata": {},
   "outputs": [],
   "source": [
    "print(ig.shape)"
   ]
  },
  {
   "cell_type": "code",
   "execution_count": null,
   "metadata": {},
   "outputs": [],
   "source": [
    "def integrated_gradients(baseline,\n",
    "                         image,\n",
    "                         target_class_idx,\n",
    "                         m_steps=50,\n",
    "                         batch_size=32):\n",
    "  # Generate alphas.\n",
    "  alphas = tf.linspace(start=0.0, stop=1.0, num=m_steps+1)\n",
    "\n",
    "  # Collect gradients.    \n",
    "  gradient_batches = []\n",
    "\n",
    "  # Iterate alphas range and batch computation for speed, memory efficiency, and scaling to larger m_steps.\n",
    "  for alpha in tf.range(0, len(alphas), batch_size):\n",
    "    from_ = alpha\n",
    "    to = tf.minimum(from_ + batch_size, len(alphas))\n",
    "    alpha_batch = alphas[from_:to]\n",
    "\n",
    "    gradient_batch = one_batch(baseline, image, alpha_batch, target_class_idx)\n",
    "    gradient_batches.append(gradient_batch)\n",
    "\n",
    "  # Stack path gradients together row-wise into single tensor.\n",
    "  total_gradients = tf.stack(gradient_batch)\n",
    "\n",
    "  # Integral approximation through averaging gradients.\n",
    "  avg_gradients = integral_approximation(gradients=total_gradients)\n",
    "\n",
    "  # Scale integrated gradients with respect to input.\n",
    "  integrated_gradients = (image - baseline) * avg_gradients\n",
    "\n",
    "  return integrated_gradients"
   ]
  },
  {
   "cell_type": "code",
   "execution_count": null,
   "metadata": {},
   "outputs": [],
   "source": [
    "@tf.function\n",
    "def one_batch(baseline, image, alpha_batch, target_class_idx):\n",
    "    # Generate interpolated inputs between baseline and input.\n",
    "    interpolated_path_input_batch = interpolate_images(baseline=baseline,\n",
    "                                                       image=image,\n",
    "                                                       alphas=alpha_batch)\n",
    "\n",
    "    # Compute gradients between model outputs and interpolated inputs.\n",
    "    gradient_batch = compute_gradients(images=interpolated_path_input_batch,\n",
    "                                       target_class_idx=target_class_idx)\n",
    "    return gradient_batch"
   ]
  },
  {
   "cell_type": "code",
   "execution_count": null,
   "metadata": {},
   "outputs": [],
   "source": [
    "ig_attributions = integrated_gradients(baseline=baseline,\n",
    "                                       image=read_image(IMAGE_PATH),\n",
    "                                       target_class_idx=class_index,\n",
    "                                       m_steps=240)"
   ]
  },
  {
   "cell_type": "code",
   "execution_count": null,
   "metadata": {},
   "outputs": [],
   "source": [
    "output = f\"{h.testsImages}/IntGrad_{file_name}\""
   ]
  },
  {
   "cell_type": "code",
   "execution_count": null,
   "metadata": {},
   "outputs": [],
   "source": [
    "def plot_img_attributions(baseline,\n",
    "                          image,\n",
    "                          target_class_idx,\n",
    "                          m_steps=50,\n",
    "                          cmap=None,\n",
    "                          overlay_alpha=0.4):\n",
    "\n",
    "  attributions = integrated_gradients(baseline=baseline,\n",
    "                                      image=image,\n",
    "                                      target_class_idx=target_class_idx,\n",
    "                                      m_steps=m_steps)\n",
    "\n",
    "  # Sum of the attributions across color channels for visualization.\n",
    "  # The attribution mask shape is a grayscale image with height and width\n",
    "  # equal to the original image.\n",
    "  attribution_mask = tf.reduce_sum(tf.math.abs(attributions), axis=-1)\n",
    "\n",
    "  fig, axs = plt.subplots(nrows=2, ncols=2, squeeze=False, figsize=(8, 8))\n",
    "\n",
    "  axs[0, 0].set_title('Baseline image')\n",
    "  axs[0, 0].imshow(baseline)\n",
    "  axs[0, 0].axis('off')\n",
    "\n",
    "  axs[0, 1].set_title('Original image')\n",
    "  axs[0, 1].imshow(image)\n",
    "  axs[0, 1].axis('off')\n",
    "\n",
    "  axs[1, 0].set_title('Attribution mask')\n",
    "  axs[1, 0].imshow(attribution_mask, cmap=cmap)\n",
    "  axs[1, 0].axis('off')\n",
    "\n",
    "  axs[1, 1].set_title('Overlay')\n",
    "  axs[1, 1].imshow(attribution_mask, cmap=cmap)\n",
    "  axs[1, 1].imshow(image, alpha=overlay_alpha)\n",
    "  axs[1, 1].axis('off')\n",
    "\n",
    "  plt.savefig(output)\n",
    "  plt.show()\n",
    "  \n",
    "  return fig"
   ]
  },
  {
   "cell_type": "code",
   "execution_count": null,
   "metadata": {},
   "outputs": [],
   "source": [
    "_ = plot_img_attributions(image=read_image(IMAGE_PATH),\n",
    "                          baseline=baseline,\n",
    "                          target_class_idx=class_index,\n",
    "                          m_steps=240,\n",
    "                          cmap=plt.cm.inferno,\n",
    "                          overlay_alpha=0.4)"
   ]
  },
  {
   "cell_type": "code",
   "execution_count": null,
   "metadata": {},
   "outputs": [],
   "source": []
  },
  {
   "cell_type": "code",
   "execution_count": null,
   "metadata": {},
   "outputs": [],
   "source": []
  }
 ],
 "metadata": {
  "kernelspec": {
   "display_name": "Python 3",
   "language": "python",
   "name": "python3"
  },
  "language_info": {
   "codemirror_mode": {
    "name": "ipython",
    "version": 3
   },
   "file_extension": ".py",
   "mimetype": "text/x-python",
   "name": "python",
   "nbconvert_exporter": "python",
   "pygments_lexer": "ipython3",
   "version": "3.8.10"
  }
 },
 "nbformat": 4,
 "nbformat_minor": 2
}
