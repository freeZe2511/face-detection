{
 "cells": [
  {
   "cell_type": "code",
   "execution_count": 10,
   "metadata": {},
   "outputs": [
    {
     "name": "stdout",
     "output_type": "stream",
     "text": [
      "\u001b[33mWARNING: You are using pip version 20.2.4; however, version 21.3.1 is available.\r\n",
      "You should consider upgrading via the '/usr/bin/python3 -m pip install --upgrade pip' command.\u001b[0m\r\n"
     ]
    }
   ],
   "source": [
    "!pip install -q jmd_imagescraper"
   ]
  },
  {
   "cell_type": "code",
   "execution_count": 4,
   "metadata": {
    "scrolled": true
   },
   "outputs": [
    {
     "name": "stdout",
     "output_type": "stream",
     "text": [
      "Duckduckgo search: lewis hamilton\n",
      "Downloading results into /tf/src/images/images/LewisHamilton\n"
     ]
    },
    {
     "data": {
      "text/html": [
       "\n",
       "    <div>\n",
       "        <style>\n",
       "            /* Turns off some styling */\n",
       "            progress {\n",
       "                /* gets rid of default border in Firefox and Opera. */\n",
       "                border: none;\n",
       "                /* Needs to be in here for Safari polyfill so background images work as expected. */\n",
       "                background-size: auto;\n",
       "            }\n",
       "            .progress-bar-interrupted, .progress-bar-interrupted::-webkit-progress-bar {\n",
       "                background: #F44336;\n",
       "            }\n",
       "        </style>\n",
       "      <progress value='200' class='' max='200' style='width:300px; height:20px; vertical-align: middle;'></progress>\n",
       "      100.00% [200/200 00:15<00:00 Images downloaded]\n",
       "    </div>\n",
       "    "
      ],
      "text/plain": [
       "<IPython.core.display.HTML object>"
      ]
     },
     "metadata": {},
     "output_type": "display_data"
    },
    {
     "name": "stdout",
     "output_type": "stream",
     "text": [
      "Duckduckgo search: sebastian vettel\n",
      "Downloading results into /tf/src/images/images/SebastianVettel\n"
     ]
    },
    {
     "data": {
      "text/html": [
       "\n",
       "    <div>\n",
       "        <style>\n",
       "            /* Turns off some styling */\n",
       "            progress {\n",
       "                /* gets rid of default border in Firefox and Opera. */\n",
       "                border: none;\n",
       "                /* Needs to be in here for Safari polyfill so background images work as expected. */\n",
       "                background-size: auto;\n",
       "            }\n",
       "            .progress-bar-interrupted, .progress-bar-interrupted::-webkit-progress-bar {\n",
       "                background: #F44336;\n",
       "            }\n",
       "        </style>\n",
       "      <progress value='200' class='' max='200' style='width:300px; height:20px; vertical-align: middle;'></progress>\n",
       "      100.00% [200/200 00:16<00:00 Images downloaded]\n",
       "    </div>\n",
       "    "
      ],
      "text/plain": [
       "<IPython.core.display.HTML object>"
      ]
     },
     "metadata": {},
     "output_type": "display_data"
    },
    {
     "name": "stdout",
     "output_type": "stream",
     "text": [
      "Duckduckgo search: max verstappen\n",
      "Downloading results into /tf/src/images/images/MaxVerstappen\n"
     ]
    },
    {
     "data": {
      "text/html": [
       "\n",
       "    <div>\n",
       "        <style>\n",
       "            /* Turns off some styling */\n",
       "            progress {\n",
       "                /* gets rid of default border in Firefox and Opera. */\n",
       "                border: none;\n",
       "                /* Needs to be in here for Safari polyfill so background images work as expected. */\n",
       "                background-size: auto;\n",
       "            }\n",
       "            .progress-bar-interrupted, .progress-bar-interrupted::-webkit-progress-bar {\n",
       "                background: #F44336;\n",
       "            }\n",
       "        </style>\n",
       "      <progress value='200' class='' max='200' style='width:300px; height:20px; vertical-align: middle;'></progress>\n",
       "      100.00% [200/200 00:15<00:00 Images downloaded]\n",
       "    </div>\n",
       "    "
      ],
      "text/plain": [
       "<IPython.core.display.HTML object>"
      ]
     },
     "metadata": {},
     "output_type": "display_data"
    },
    {
     "name": "stdout",
     "output_type": "stream",
     "text": [
      "Duckduckgo search: karl lauterbach\n",
      "Downloading results into /tf/src/images/images/KarlLauterbach\n"
     ]
    },
    {
     "data": {
      "text/html": [
       "\n",
       "    <div>\n",
       "        <style>\n",
       "            /* Turns off some styling */\n",
       "            progress {\n",
       "                /* gets rid of default border in Firefox and Opera. */\n",
       "                border: none;\n",
       "                /* Needs to be in here for Safari polyfill so background images work as expected. */\n",
       "                background-size: auto;\n",
       "            }\n",
       "            .progress-bar-interrupted, .progress-bar-interrupted::-webkit-progress-bar {\n",
       "                background: #F44336;\n",
       "            }\n",
       "        </style>\n",
       "      <progress value='200' class='' max='200' style='width:300px; height:20px; vertical-align: middle;'></progress>\n",
       "      100.00% [200/200 00:14<00:00 Images downloaded]\n",
       "    </div>\n",
       "    "
      ],
      "text/plain": [
       "<IPython.core.display.HTML object>"
      ]
     },
     "metadata": {},
     "output_type": "display_data"
    },
    {
     "name": "stdout",
     "output_type": "stream",
     "text": [
      "Duckduckgo search: cristiano ronaldo\n",
      "Downloading results into /tf/src/images/images/CristianoRonaldo\n"
     ]
    },
    {
     "data": {
      "text/html": [
       "\n",
       "    <div>\n",
       "        <style>\n",
       "            /* Turns off some styling */\n",
       "            progress {\n",
       "                /* gets rid of default border in Firefox and Opera. */\n",
       "                border: none;\n",
       "                /* Needs to be in here for Safari polyfill so background images work as expected. */\n",
       "                background-size: auto;\n",
       "            }\n",
       "            .progress-bar-interrupted, .progress-bar-interrupted::-webkit-progress-bar {\n",
       "                background: #F44336;\n",
       "            }\n",
       "        </style>\n",
       "      <progress value='200' class='' max='200' style='width:300px; height:20px; vertical-align: middle;'></progress>\n",
       "      100.00% [200/200 00:13<00:00 Images downloaded]\n",
       "    </div>\n",
       "    "
      ],
      "text/plain": [
       "<IPython.core.display.HTML object>"
      ]
     },
     "metadata": {},
     "output_type": "display_data"
    },
    {
     "name": "stdout",
     "output_type": "stream",
     "text": [
      "Duckduckgo search: lionel messi\n",
      "Downloading results into /tf/src/images/images/LionelMessi\n"
     ]
    },
    {
     "data": {
      "text/html": [
       "\n",
       "    <div>\n",
       "        <style>\n",
       "            /* Turns off some styling */\n",
       "            progress {\n",
       "                /* gets rid of default border in Firefox and Opera. */\n",
       "                border: none;\n",
       "                /* Needs to be in here for Safari polyfill so background images work as expected. */\n",
       "                background-size: auto;\n",
       "            }\n",
       "            .progress-bar-interrupted, .progress-bar-interrupted::-webkit-progress-bar {\n",
       "                background: #F44336;\n",
       "            }\n",
       "        </style>\n",
       "      <progress value='200' class='' max='200' style='width:300px; height:20px; vertical-align: middle;'></progress>\n",
       "      100.00% [200/200 00:14<00:00 Images downloaded]\n",
       "    </div>\n",
       "    "
      ],
      "text/plain": [
       "<IPython.core.display.HTML object>"
      ]
     },
     "metadata": {},
     "output_type": "display_data"
    },
    {
     "name": "stdout",
     "output_type": "stream",
     "text": [
      "Duckduckgo search: ed sheeran\n",
      "Downloading results into /tf/src/images/images/EdSheeran\n"
     ]
    },
    {
     "data": {
      "text/html": [
       "\n",
       "    <div>\n",
       "        <style>\n",
       "            /* Turns off some styling */\n",
       "            progress {\n",
       "                /* gets rid of default border in Firefox and Opera. */\n",
       "                border: none;\n",
       "                /* Needs to be in here for Safari polyfill so background images work as expected. */\n",
       "                background-size: auto;\n",
       "            }\n",
       "            .progress-bar-interrupted, .progress-bar-interrupted::-webkit-progress-bar {\n",
       "                background: #F44336;\n",
       "            }\n",
       "        </style>\n",
       "      <progress value='200' class='' max='200' style='width:300px; height:20px; vertical-align: middle;'></progress>\n",
       "      100.00% [200/200 00:14<00:00 Images downloaded]\n",
       "    </div>\n",
       "    "
      ],
      "text/plain": [
       "<IPython.core.display.HTML object>"
      ]
     },
     "metadata": {},
     "output_type": "display_data"
    },
    {
     "name": "stdout",
     "output_type": "stream",
     "text": [
      "Duckduckgo search: tom cruise\n",
      "Downloading results into /tf/src/images/images/TomCruise\n"
     ]
    },
    {
     "data": {
      "text/html": [
       "\n",
       "    <div>\n",
       "        <style>\n",
       "            /* Turns off some styling */\n",
       "            progress {\n",
       "                /* gets rid of default border in Firefox and Opera. */\n",
       "                border: none;\n",
       "                /* Needs to be in here for Safari polyfill so background images work as expected. */\n",
       "                background-size: auto;\n",
       "            }\n",
       "            .progress-bar-interrupted, .progress-bar-interrupted::-webkit-progress-bar {\n",
       "                background: #F44336;\n",
       "            }\n",
       "        </style>\n",
       "      <progress value='200' class='' max='200' style='width:300px; height:20px; vertical-align: middle;'></progress>\n",
       "      100.00% [200/200 00:15<00:00 Images downloaded]\n",
       "    </div>\n",
       "    "
      ],
      "text/plain": [
       "<IPython.core.display.HTML object>"
      ]
     },
     "metadata": {},
     "output_type": "display_data"
    },
    {
     "name": "stdout",
     "output_type": "stream",
     "text": [
      "Duckduckgo search: helene fischer\n",
      "Downloading results into /tf/src/images/images/HeleneFischer\n"
     ]
    },
    {
     "data": {
      "text/html": [
       "\n",
       "    <div>\n",
       "        <style>\n",
       "            /* Turns off some styling */\n",
       "            progress {\n",
       "                /* gets rid of default border in Firefox and Opera. */\n",
       "                border: none;\n",
       "                /* Needs to be in here for Safari polyfill so background images work as expected. */\n",
       "                background-size: auto;\n",
       "            }\n",
       "            .progress-bar-interrupted, .progress-bar-interrupted::-webkit-progress-bar {\n",
       "                background: #F44336;\n",
       "            }\n",
       "        </style>\n",
       "      <progress value='200' class='' max='200' style='width:300px; height:20px; vertical-align: middle;'></progress>\n",
       "      100.00% [200/200 00:12<00:00 Images downloaded]\n",
       "    </div>\n",
       "    "
      ],
      "text/plain": [
       "<IPython.core.display.HTML object>"
      ]
     },
     "metadata": {},
     "output_type": "display_data"
    },
    {
     "name": "stdout",
     "output_type": "stream",
     "text": [
      "Duckduckgo search: rihanna\n",
      "Downloading results into /tf/src/images/images/Rihanna\n"
     ]
    },
    {
     "data": {
      "text/html": [
       "\n",
       "    <div>\n",
       "        <style>\n",
       "            /* Turns off some styling */\n",
       "            progress {\n",
       "                /* gets rid of default border in Firefox and Opera. */\n",
       "                border: none;\n",
       "                /* Needs to be in here for Safari polyfill so background images work as expected. */\n",
       "                background-size: auto;\n",
       "            }\n",
       "            .progress-bar-interrupted, .progress-bar-interrupted::-webkit-progress-bar {\n",
       "                background: #F44336;\n",
       "            }\n",
       "        </style>\n",
       "      <progress value='200' class='' max='200' style='width:300px; height:20px; vertical-align: middle;'></progress>\n",
       "      100.00% [200/200 00:11<00:00 Images downloaded]\n",
       "    </div>\n",
       "    "
      ],
      "text/plain": [
       "<IPython.core.display.HTML object>"
      ]
     },
     "metadata": {},
     "output_type": "display_data"
    },
    {
     "name": "stdout",
     "output_type": "stream",
     "text": [
      "Duckduckgo search: günther jauch\n",
      "Downloading results into /tf/src/images/images/GüntherJauch\n"
     ]
    },
    {
     "data": {
      "text/html": [
       "\n",
       "    <div>\n",
       "        <style>\n",
       "            /* Turns off some styling */\n",
       "            progress {\n",
       "                /* gets rid of default border in Firefox and Opera. */\n",
       "                border: none;\n",
       "                /* Needs to be in here for Safari polyfill so background images work as expected. */\n",
       "                background-size: auto;\n",
       "            }\n",
       "            .progress-bar-interrupted, .progress-bar-interrupted::-webkit-progress-bar {\n",
       "                background: #F44336;\n",
       "            }\n",
       "        </style>\n",
       "      <progress value='200' class='' max='200' style='width:300px; height:20px; vertical-align: middle;'></progress>\n",
       "      100.00% [200/200 00:12<00:00 Images downloaded]\n",
       "    </div>\n",
       "    "
      ],
      "text/plain": [
       "<IPython.core.display.HTML object>"
      ]
     },
     "metadata": {},
     "output_type": "display_data"
    },
    {
     "name": "stdout",
     "output_type": "stream",
     "text": [
      "Duckduckgo search: stefan raab\n",
      "Downloading results into /tf/src/images/images/StefanRaab\n"
     ]
    },
    {
     "data": {
      "text/html": [
       "\n",
       "    <div>\n",
       "        <style>\n",
       "            /* Turns off some styling */\n",
       "            progress {\n",
       "                /* gets rid of default border in Firefox and Opera. */\n",
       "                border: none;\n",
       "                /* Needs to be in here for Safari polyfill so background images work as expected. */\n",
       "                background-size: auto;\n",
       "            }\n",
       "            .progress-bar-interrupted, .progress-bar-interrupted::-webkit-progress-bar {\n",
       "                background: #F44336;\n",
       "            }\n",
       "        </style>\n",
       "      <progress value='200' class='' max='200' style='width:300px; height:20px; vertical-align: middle;'></progress>\n",
       "      100.00% [200/200 00:12<00:00 Images downloaded]\n",
       "    </div>\n",
       "    "
      ],
      "text/plain": [
       "<IPython.core.display.HTML object>"
      ]
     },
     "metadata": {},
     "output_type": "display_data"
    },
    {
     "name": "stdout",
     "output_type": "stream",
     "text": [
      "Duckduckgo search: heidi klum\n",
      "Downloading results into /tf/src/images/images/HeidiKlum\n"
     ]
    },
    {
     "data": {
      "text/html": [
       "\n",
       "    <div>\n",
       "        <style>\n",
       "            /* Turns off some styling */\n",
       "            progress {\n",
       "                /* gets rid of default border in Firefox and Opera. */\n",
       "                border: none;\n",
       "                /* Needs to be in here for Safari polyfill so background images work as expected. */\n",
       "                background-size: auto;\n",
       "            }\n",
       "            .progress-bar-interrupted, .progress-bar-interrupted::-webkit-progress-bar {\n",
       "                background: #F44336;\n",
       "            }\n",
       "        </style>\n",
       "      <progress value='200' class='' max='200' style='width:300px; height:20px; vertical-align: middle;'></progress>\n",
       "      100.00% [200/200 00:12<00:00 Images downloaded]\n",
       "    </div>\n",
       "    "
      ],
      "text/plain": [
       "<IPython.core.display.HTML object>"
      ]
     },
     "metadata": {},
     "output_type": "display_data"
    },
    {
     "name": "stdout",
     "output_type": "stream",
     "text": [
      "Duckduckgo search: nena\n",
      "Downloading results into /tf/src/images/images/Nena\n"
     ]
    },
    {
     "data": {
      "text/html": [
       "\n",
       "    <div>\n",
       "        <style>\n",
       "            /* Turns off some styling */\n",
       "            progress {\n",
       "                /* gets rid of default border in Firefox and Opera. */\n",
       "                border: none;\n",
       "                /* Needs to be in here for Safari polyfill so background images work as expected. */\n",
       "                background-size: auto;\n",
       "            }\n",
       "            .progress-bar-interrupted, .progress-bar-interrupted::-webkit-progress-bar {\n",
       "                background: #F44336;\n",
       "            }\n",
       "        </style>\n",
       "      <progress value='200' class='' max='200' style='width:300px; height:20px; vertical-align: middle;'></progress>\n",
       "      100.00% [200/200 00:13<00:00 Images downloaded]\n",
       "    </div>\n",
       "    "
      ],
      "text/plain": [
       "<IPython.core.display.HTML object>"
      ]
     },
     "metadata": {},
     "output_type": "display_data"
    },
    {
     "name": "stdout",
     "output_type": "stream",
     "text": [
      "Duckduckgo search: manuel neuer\n",
      "Downloading results into /tf/src/images/images/ManuelNeuer\n"
     ]
    },
    {
     "data": {
      "text/html": [
       "\n",
       "    <div>\n",
       "        <style>\n",
       "            /* Turns off some styling */\n",
       "            progress {\n",
       "                /* gets rid of default border in Firefox and Opera. */\n",
       "                border: none;\n",
       "                /* Needs to be in here for Safari polyfill so background images work as expected. */\n",
       "                background-size: auto;\n",
       "            }\n",
       "            .progress-bar-interrupted, .progress-bar-interrupted::-webkit-progress-bar {\n",
       "                background: #F44336;\n",
       "            }\n",
       "        </style>\n",
       "      <progress value='200' class='' max='200' style='width:300px; height:20px; vertical-align: middle;'></progress>\n",
       "      100.00% [200/200 00:12<00:00 Images downloaded]\n",
       "    </div>\n",
       "    "
      ],
      "text/plain": [
       "<IPython.core.display.HTML object>"
      ]
     },
     "metadata": {},
     "output_type": "display_data"
    },
    {
     "name": "stdout",
     "output_type": "stream",
     "text": [
      "Duckduckgo search: elyas m'barek\n",
      "Downloading results into /tf/src/images/images/ElyasM'barek\n"
     ]
    },
    {
     "data": {
      "text/html": [
       "\n",
       "    <div>\n",
       "        <style>\n",
       "            /* Turns off some styling */\n",
       "            progress {\n",
       "                /* gets rid of default border in Firefox and Opera. */\n",
       "                border: none;\n",
       "                /* Needs to be in here for Safari polyfill so background images work as expected. */\n",
       "                background-size: auto;\n",
       "            }\n",
       "            .progress-bar-interrupted, .progress-bar-interrupted::-webkit-progress-bar {\n",
       "                background: #F44336;\n",
       "            }\n",
       "        </style>\n",
       "      <progress value='200' class='' max='200' style='width:300px; height:20px; vertical-align: middle;'></progress>\n",
       "      100.00% [200/200 00:12<00:00 Images downloaded]\n",
       "    </div>\n",
       "    "
      ],
      "text/plain": [
       "<IPython.core.display.HTML object>"
      ]
     },
     "metadata": {},
     "output_type": "display_data"
    },
    {
     "name": "stdout",
     "output_type": "stream",
     "text": [
      "Duckduckgo search: judith rakers\n",
      "Downloading results into /tf/src/images/images/JudithRakers\n"
     ]
    },
    {
     "data": {
      "text/html": [
       "\n",
       "    <div>\n",
       "        <style>\n",
       "            /* Turns off some styling */\n",
       "            progress {\n",
       "                /* gets rid of default border in Firefox and Opera. */\n",
       "                border: none;\n",
       "                /* Needs to be in here for Safari polyfill so background images work as expected. */\n",
       "                background-size: auto;\n",
       "            }\n",
       "            .progress-bar-interrupted, .progress-bar-interrupted::-webkit-progress-bar {\n",
       "                background: #F44336;\n",
       "            }\n",
       "        </style>\n",
       "      <progress value='200' class='' max='200' style='width:300px; height:20px; vertical-align: middle;'></progress>\n",
       "      100.00% [200/200 00:14<00:00 Images downloaded]\n",
       "    </div>\n",
       "    "
      ],
      "text/plain": [
       "<IPython.core.display.HTML object>"
      ]
     },
     "metadata": {},
     "output_type": "display_data"
    },
    {
     "name": "stdout",
     "output_type": "stream",
     "text": [
      "Duckduckgo search: angela merkel\n",
      "Downloading results into /tf/src/images/images/AngelaMerkel\n"
     ]
    },
    {
     "data": {
      "text/html": [
       "\n",
       "    <div>\n",
       "        <style>\n",
       "            /* Turns off some styling */\n",
       "            progress {\n",
       "                /* gets rid of default border in Firefox and Opera. */\n",
       "                border: none;\n",
       "                /* Needs to be in here for Safari polyfill so background images work as expected. */\n",
       "                background-size: auto;\n",
       "            }\n",
       "            .progress-bar-interrupted, .progress-bar-interrupted::-webkit-progress-bar {\n",
       "                background: #F44336;\n",
       "            }\n",
       "        </style>\n",
       "      <progress value='200' class='' max='200' style='width:300px; height:20px; vertical-align: middle;'></progress>\n",
       "      100.00% [200/200 00:11<00:00 Images downloaded]\n",
       "    </div>\n",
       "    "
      ],
      "text/plain": [
       "<IPython.core.display.HTML object>"
      ]
     },
     "metadata": {},
     "output_type": "display_data"
    },
    {
     "name": "stdout",
     "output_type": "stream",
     "text": [
      "Duckduckgo search: wladimir wladimirowitsch putin\n",
      "Downloading results into /tf/src/images/images/WladimirPutin\n"
     ]
    },
    {
     "data": {
      "text/html": [
       "\n",
       "    <div>\n",
       "        <style>\n",
       "            /* Turns off some styling */\n",
       "            progress {\n",
       "                /* gets rid of default border in Firefox and Opera. */\n",
       "                border: none;\n",
       "                /* Needs to be in here for Safari polyfill so background images work as expected. */\n",
       "                background-size: auto;\n",
       "            }\n",
       "            .progress-bar-interrupted, .progress-bar-interrupted::-webkit-progress-bar {\n",
       "                background: #F44336;\n",
       "            }\n",
       "        </style>\n",
       "      <progress value='200' class='' max='200' style='width:300px; height:20px; vertical-align: middle;'></progress>\n",
       "      100.00% [200/200 00:16<00:00 Images downloaded]\n",
       "    </div>\n",
       "    "
      ],
      "text/plain": [
       "<IPython.core.display.HTML object>"
      ]
     },
     "metadata": {},
     "output_type": "display_data"
    },
    {
     "name": "stdout",
     "output_type": "stream",
     "text": [
      "Duckduckgo search: olaf scholz\n",
      "Downloading results into /tf/src/images/images/OlafScholz\n"
     ]
    },
    {
     "data": {
      "text/html": [
       "\n",
       "    <div>\n",
       "        <style>\n",
       "            /* Turns off some styling */\n",
       "            progress {\n",
       "                /* gets rid of default border in Firefox and Opera. */\n",
       "                border: none;\n",
       "                /* Needs to be in here for Safari polyfill so background images work as expected. */\n",
       "                background-size: auto;\n",
       "            }\n",
       "            .progress-bar-interrupted, .progress-bar-interrupted::-webkit-progress-bar {\n",
       "                background: #F44336;\n",
       "            }\n",
       "        </style>\n",
       "      <progress value='200' class='' max='200' style='width:300px; height:20px; vertical-align: middle;'></progress>\n",
       "      100.00% [200/200 00:11<00:00 Images downloaded]\n",
       "    </div>\n",
       "    "
      ],
      "text/plain": [
       "<IPython.core.display.HTML object>"
      ]
     },
     "metadata": {},
     "output_type": "display_data"
    },
    {
     "name": "stdout",
     "output_type": "stream",
     "text": [
      "Duckduckgo search: joe biden\n",
      "Downloading results into /tf/src/images/images/JoeBiden\n"
     ]
    },
    {
     "data": {
      "text/html": [
       "\n",
       "    <div>\n",
       "        <style>\n",
       "            /* Turns off some styling */\n",
       "            progress {\n",
       "                /* gets rid of default border in Firefox and Opera. */\n",
       "                border: none;\n",
       "                /* Needs to be in here for Safari polyfill so background images work as expected. */\n",
       "                background-size: auto;\n",
       "            }\n",
       "            .progress-bar-interrupted, .progress-bar-interrupted::-webkit-progress-bar {\n",
       "                background: #F44336;\n",
       "            }\n",
       "        </style>\n",
       "      <progress value='200' class='' max='200' style='width:300px; height:20px; vertical-align: middle;'></progress>\n",
       "      100.00% [200/200 00:13<00:00 Images downloaded]\n",
       "    </div>\n",
       "    "
      ],
      "text/plain": [
       "<IPython.core.display.HTML object>"
      ]
     },
     "metadata": {},
     "output_type": "display_data"
    },
    {
     "name": "stdout",
     "output_type": "stream",
     "text": [
      "Duckduckgo search: donald trump\n",
      "Downloading results into /tf/src/images/images/DonaldTrump\n"
     ]
    },
    {
     "data": {
      "text/html": [
       "\n",
       "    <div>\n",
       "        <style>\n",
       "            /* Turns off some styling */\n",
       "            progress {\n",
       "                /* gets rid of default border in Firefox and Opera. */\n",
       "                border: none;\n",
       "                /* Needs to be in here for Safari polyfill so background images work as expected. */\n",
       "                background-size: auto;\n",
       "            }\n",
       "            .progress-bar-interrupted, .progress-bar-interrupted::-webkit-progress-bar {\n",
       "                background: #F44336;\n",
       "            }\n",
       "        </style>\n",
       "      <progress value='200' class='' max='200' style='width:300px; height:20px; vertical-align: middle;'></progress>\n",
       "      100.00% [200/200 00:12<00:00 Images downloaded]\n",
       "    </div>\n",
       "    "
      ],
      "text/plain": [
       "<IPython.core.display.HTML object>"
      ]
     },
     "metadata": {},
     "output_type": "display_data"
    },
    {
     "name": "stdout",
     "output_type": "stream",
     "text": [
      "Duckduckgo search: christian lindner\n",
      "Downloading results into /tf/src/images/images/ChristianLindner\n"
     ]
    },
    {
     "data": {
      "text/html": [
       "\n",
       "    <div>\n",
       "        <style>\n",
       "            /* Turns off some styling */\n",
       "            progress {\n",
       "                /* gets rid of default border in Firefox and Opera. */\n",
       "                border: none;\n",
       "                /* Needs to be in here for Safari polyfill so background images work as expected. */\n",
       "                background-size: auto;\n",
       "            }\n",
       "            .progress-bar-interrupted, .progress-bar-interrupted::-webkit-progress-bar {\n",
       "                background: #F44336;\n",
       "            }\n",
       "        </style>\n",
       "      <progress value='200' class='' max='200' style='width:300px; height:20px; vertical-align: middle;'></progress>\n",
       "      100.00% [200/200 00:12<00:00 Images downloaded]\n",
       "    </div>\n",
       "    "
      ],
      "text/plain": [
       "<IPython.core.display.HTML object>"
      ]
     },
     "metadata": {},
     "output_type": "display_data"
    },
    {
     "name": "stdout",
     "output_type": "stream",
     "text": [
      "Duckduckgo search: annalena baerbock\n",
      "Downloading results into /tf/src/images/images/AnnalenaBaerbock\n"
     ]
    },
    {
     "data": {
      "text/html": [
       "\n",
       "    <div>\n",
       "        <style>\n",
       "            /* Turns off some styling */\n",
       "            progress {\n",
       "                /* gets rid of default border in Firefox and Opera. */\n",
       "                border: none;\n",
       "                /* Needs to be in here for Safari polyfill so background images work as expected. */\n",
       "                background-size: auto;\n",
       "            }\n",
       "            .progress-bar-interrupted, .progress-bar-interrupted::-webkit-progress-bar {\n",
       "                background: #F44336;\n",
       "            }\n",
       "        </style>\n",
       "      <progress value='200' class='' max='200' style='width:300px; height:20px; vertical-align: middle;'></progress>\n",
       "      100.00% [200/200 00:11<00:00 Images downloaded]\n",
       "    </div>\n",
       "    "
      ],
      "text/plain": [
       "<IPython.core.display.HTML object>"
      ]
     },
     "metadata": {},
     "output_type": "display_data"
    },
    {
     "name": "stdout",
     "output_type": "stream",
     "text": [
      "Duckduckgo search: elon musk\n",
      "Downloading results into /tf/src/images/images/ElonMusk\n"
     ]
    },
    {
     "data": {
      "text/html": [
       "\n",
       "    <div>\n",
       "        <style>\n",
       "            /* Turns off some styling */\n",
       "            progress {\n",
       "                /* gets rid of default border in Firefox and Opera. */\n",
       "                border: none;\n",
       "                /* Needs to be in here for Safari polyfill so background images work as expected. */\n",
       "                background-size: auto;\n",
       "            }\n",
       "            .progress-bar-interrupted, .progress-bar-interrupted::-webkit-progress-bar {\n",
       "                background: #F44336;\n",
       "            }\n",
       "        </style>\n",
       "      <progress value='200' class='' max='200' style='width:300px; height:20px; vertical-align: middle;'></progress>\n",
       "      100.00% [200/200 00:11<00:00 Images downloaded]\n",
       "    </div>\n",
       "    "
      ],
      "text/plain": [
       "<IPython.core.display.HTML object>"
      ]
     },
     "metadata": {},
     "output_type": "display_data"
    },
    {
     "name": "stdout",
     "output_type": "stream",
     "text": [
      "Duckduckgo search: jeff bezos\n",
      "Downloading results into /tf/src/images/images/JeffBezos\n"
     ]
    },
    {
     "data": {
      "text/html": [
       "\n",
       "    <div>\n",
       "        <style>\n",
       "            /* Turns off some styling */\n",
       "            progress {\n",
       "                /* gets rid of default border in Firefox and Opera. */\n",
       "                border: none;\n",
       "                /* Needs to be in here for Safari polyfill so background images work as expected. */\n",
       "                background-size: auto;\n",
       "            }\n",
       "            .progress-bar-interrupted, .progress-bar-interrupted::-webkit-progress-bar {\n",
       "                background: #F44336;\n",
       "            }\n",
       "        </style>\n",
       "      <progress value='200' class='' max='200' style='width:300px; height:20px; vertical-align: middle;'></progress>\n",
       "      100.00% [200/200 00:12<00:00 Images downloaded]\n",
       "    </div>\n",
       "    "
      ],
      "text/plain": [
       "<IPython.core.display.HTML object>"
      ]
     },
     "metadata": {},
     "output_type": "display_data"
    },
    {
     "name": "stdout",
     "output_type": "stream",
     "text": [
      "Duckduckgo search: barack obama\n",
      "Downloading results into /tf/src/images/images/BarackObama\n"
     ]
    },
    {
     "data": {
      "text/html": [
       "\n",
       "    <div>\n",
       "        <style>\n",
       "            /* Turns off some styling */\n",
       "            progress {\n",
       "                /* gets rid of default border in Firefox and Opera. */\n",
       "                border: none;\n",
       "                /* Needs to be in here for Safari polyfill so background images work as expected. */\n",
       "                background-size: auto;\n",
       "            }\n",
       "            .progress-bar-interrupted, .progress-bar-interrupted::-webkit-progress-bar {\n",
       "                background: #F44336;\n",
       "            }\n",
       "        </style>\n",
       "      <progress value='200' class='' max='200' style='width:300px; height:20px; vertical-align: middle;'></progress>\n",
       "      100.00% [200/200 00:12<00:00 Images downloaded]\n",
       "    </div>\n",
       "    "
      ],
      "text/plain": [
       "<IPython.core.display.HTML object>"
      ]
     },
     "metadata": {},
     "output_type": "display_data"
    },
    {
     "name": "stdout",
     "output_type": "stream",
     "text": [
      "Duckduckgo search: chris pratt\n",
      "Downloading results into /tf/src/images/images/ChrisPratt\n"
     ]
    },
    {
     "data": {
      "text/html": [
       "\n",
       "    <div>\n",
       "        <style>\n",
       "            /* Turns off some styling */\n",
       "            progress {\n",
       "                /* gets rid of default border in Firefox and Opera. */\n",
       "                border: none;\n",
       "                /* Needs to be in here for Safari polyfill so background images work as expected. */\n",
       "                background-size: auto;\n",
       "            }\n",
       "            .progress-bar-interrupted, .progress-bar-interrupted::-webkit-progress-bar {\n",
       "                background: #F44336;\n",
       "            }\n",
       "        </style>\n",
       "      <progress value='200' class='' max='200' style='width:300px; height:20px; vertical-align: middle;'></progress>\n",
       "      100.00% [200/200 00:14<00:00 Images downloaded]\n",
       "    </div>\n",
       "    "
      ],
      "text/plain": [
       "<IPython.core.display.HTML object>"
      ]
     },
     "metadata": {},
     "output_type": "display_data"
    },
    {
     "name": "stdout",
     "output_type": "stream",
     "text": [
      "Duckduckgo search: xi jinping\n",
      "Downloading results into /tf/src/images/images/XiJinping\n"
     ]
    },
    {
     "data": {
      "text/html": [
       "\n",
       "    <div>\n",
       "        <style>\n",
       "            /* Turns off some styling */\n",
       "            progress {\n",
       "                /* gets rid of default border in Firefox and Opera. */\n",
       "                border: none;\n",
       "                /* Needs to be in here for Safari polyfill so background images work as expected. */\n",
       "                background-size: auto;\n",
       "            }\n",
       "            .progress-bar-interrupted, .progress-bar-interrupted::-webkit-progress-bar {\n",
       "                background: #F44336;\n",
       "            }\n",
       "        </style>\n",
       "      <progress value='200' class='' max='200' style='width:300px; height:20px; vertical-align: middle;'></progress>\n",
       "      100.00% [200/200 00:11<00:00 Images downloaded]\n",
       "    </div>\n",
       "    "
      ],
      "text/plain": [
       "<IPython.core.display.HTML object>"
      ]
     },
     "metadata": {},
     "output_type": "display_data"
    },
    {
     "name": "stdout",
     "output_type": "stream",
     "text": [
      "Duckduckgo search: dwayne the rock johnson\n",
      "Downloading results into /tf/src/images/images/DwayneJohnson\n"
     ]
    },
    {
     "data": {
      "text/html": [
       "\n",
       "    <div>\n",
       "        <style>\n",
       "            /* Turns off some styling */\n",
       "            progress {\n",
       "                /* gets rid of default border in Firefox and Opera. */\n",
       "                border: none;\n",
       "                /* Needs to be in here for Safari polyfill so background images work as expected. */\n",
       "                background-size: auto;\n",
       "            }\n",
       "            .progress-bar-interrupted, .progress-bar-interrupted::-webkit-progress-bar {\n",
       "                background: #F44336;\n",
       "            }\n",
       "        </style>\n",
       "      <progress value='200' class='' max='200' style='width:300px; height:20px; vertical-align: middle;'></progress>\n",
       "      100.00% [200/200 00:11<00:00 Images downloaded]\n",
       "    </div>\n",
       "    "
      ],
      "text/plain": [
       "<IPython.core.display.HTML object>"
      ]
     },
     "metadata": {},
     "output_type": "display_data"
    },
    {
     "name": "stdout",
     "output_type": "stream",
     "text": [
      "Duckduckgo search: macKenzie scott\n",
      "Downloading results into /tf/src/images/images/MacKenzieScott\n"
     ]
    },
    {
     "data": {
      "text/html": [
       "\n",
       "    <div>\n",
       "        <style>\n",
       "            /* Turns off some styling */\n",
       "            progress {\n",
       "                /* gets rid of default border in Firefox and Opera. */\n",
       "                border: none;\n",
       "                /* Needs to be in here for Safari polyfill so background images work as expected. */\n",
       "                background-size: auto;\n",
       "            }\n",
       "            .progress-bar-interrupted, .progress-bar-interrupted::-webkit-progress-bar {\n",
       "                background: #F44336;\n",
       "            }\n",
       "        </style>\n",
       "      <progress value='200' class='' max='200' style='width:300px; height:20px; vertical-align: middle;'></progress>\n",
       "      100.00% [200/200 00:11<00:00 Images downloaded]\n",
       "    </div>\n",
       "    "
      ],
      "text/plain": [
       "<IPython.core.display.HTML object>"
      ]
     },
     "metadata": {},
     "output_type": "display_data"
    },
    {
     "name": "stdout",
     "output_type": "stream",
     "text": [
      "Duckduckgo search: anthony fauci\n",
      "Downloading results into /tf/src/images/images/AnthonyFauci\n"
     ]
    },
    {
     "data": {
      "text/html": [
       "\n",
       "    <div>\n",
       "        <style>\n",
       "            /* Turns off some styling */\n",
       "            progress {\n",
       "                /* gets rid of default border in Firefox and Opera. */\n",
       "                border: none;\n",
       "                /* Needs to be in here for Safari polyfill so background images work as expected. */\n",
       "                background-size: auto;\n",
       "            }\n",
       "            .progress-bar-interrupted, .progress-bar-interrupted::-webkit-progress-bar {\n",
       "                background: #F44336;\n",
       "            }\n",
       "        </style>\n",
       "      <progress value='200' class='' max='200' style='width:300px; height:20px; vertical-align: middle;'></progress>\n",
       "      100.00% [200/200 00:12<00:00 Images downloaded]\n",
       "    </div>\n",
       "    "
      ],
      "text/plain": [
       "<IPython.core.display.HTML object>"
      ]
     },
     "metadata": {},
     "output_type": "display_data"
    },
    {
     "data": {
      "text/plain": [
       "[PosixPath('/tf/src/images/images/AnthonyFauci/001_354ebc3d.jpg'),\n",
       " PosixPath('/tf/src/images/images/AnthonyFauci/002_81fac05e.jpg'),\n",
       " PosixPath('/tf/src/images/images/AnthonyFauci/003_86e37940.jpg'),\n",
       " PosixPath('/tf/src/images/images/AnthonyFauci/004_6e208bc7.jpg'),\n",
       " PosixPath('/tf/src/images/images/AnthonyFauci/005_17397e7c.jpg'),\n",
       " PosixPath('/tf/src/images/images/AnthonyFauci/006_7237bc10.jpg'),\n",
       " PosixPath('/tf/src/images/images/AnthonyFauci/007_71f9c3fd.jpg'),\n",
       " PosixPath('/tf/src/images/images/AnthonyFauci/008_12f43902.jpg'),\n",
       " PosixPath('/tf/src/images/images/AnthonyFauci/009_d4927f49.jpg'),\n",
       " PosixPath('/tf/src/images/images/AnthonyFauci/010_16b9f90b.jpg'),\n",
       " PosixPath('/tf/src/images/images/AnthonyFauci/011_3ecdbc3e.jpg'),\n",
       " PosixPath('/tf/src/images/images/AnthonyFauci/012_8657c95b.jpg'),\n",
       " PosixPath('/tf/src/images/images/AnthonyFauci/013_fca568ef.jpg'),\n",
       " PosixPath('/tf/src/images/images/AnthonyFauci/014_758f413c.jpg'),\n",
       " PosixPath('/tf/src/images/images/AnthonyFauci/015_e0519790.jpg'),\n",
       " PosixPath('/tf/src/images/images/AnthonyFauci/016_ba81bc45.jpg'),\n",
       " PosixPath('/tf/src/images/images/AnthonyFauci/017_af496959.jpg'),\n",
       " PosixPath('/tf/src/images/images/AnthonyFauci/018_adb9fbda.jpg'),\n",
       " PosixPath('/tf/src/images/images/AnthonyFauci/019_0c9aecc2.jpg'),\n",
       " PosixPath('/tf/src/images/images/AnthonyFauci/020_b5ca6b5c.jpg'),\n",
       " PosixPath('/tf/src/images/images/AnthonyFauci/021_5b9bb9e5.jpg'),\n",
       " PosixPath('/tf/src/images/images/AnthonyFauci/022_caa74ede.jpg'),\n",
       " PosixPath('/tf/src/images/images/AnthonyFauci/023_0b1fac6d.jpg'),\n",
       " PosixPath('/tf/src/images/images/AnthonyFauci/024_995a6e48.jpg'),\n",
       " PosixPath('/tf/src/images/images/AnthonyFauci/025_801c554f.jpg'),\n",
       " PosixPath('/tf/src/images/images/AnthonyFauci/026_5f6fa65c.jpg'),\n",
       " PosixPath('/tf/src/images/images/AnthonyFauci/027_19b7df17.jpg'),\n",
       " PosixPath('/tf/src/images/images/AnthonyFauci/028_2320dbae.jpg'),\n",
       " PosixPath('/tf/src/images/images/AnthonyFauci/029_ab228a09.jpg'),\n",
       " PosixPath('/tf/src/images/images/AnthonyFauci/030_594dcec1.jpg'),\n",
       " PosixPath('/tf/src/images/images/AnthonyFauci/031_1d808285.jpg'),\n",
       " PosixPath('/tf/src/images/images/AnthonyFauci/032_e77177c0.jpg'),\n",
       " PosixPath('/tf/src/images/images/AnthonyFauci/033_083b66d4.jpg'),\n",
       " PosixPath('/tf/src/images/images/AnthonyFauci/034_d762250f.jpg'),\n",
       " PosixPath('/tf/src/images/images/AnthonyFauci/035_f18c576a.jpg'),\n",
       " PosixPath('/tf/src/images/images/AnthonyFauci/036_eb34cb4f.jpg'),\n",
       " PosixPath('/tf/src/images/images/AnthonyFauci/037_3116896e.jpg'),\n",
       " PosixPath('/tf/src/images/images/AnthonyFauci/038_78f7f93b.jpg'),\n",
       " PosixPath('/tf/src/images/images/AnthonyFauci/039_cac7b223.jpg'),\n",
       " PosixPath('/tf/src/images/images/AnthonyFauci/040_38921758.jpg'),\n",
       " PosixPath('/tf/src/images/images/AnthonyFauci/041_b772a14b.jpg'),\n",
       " PosixPath('/tf/src/images/images/AnthonyFauci/042_fae9c36f.jpg'),\n",
       " PosixPath('/tf/src/images/images/AnthonyFauci/043_145ed6ef.jpg'),\n",
       " PosixPath('/tf/src/images/images/AnthonyFauci/044_e8306842.jpg'),\n",
       " PosixPath('/tf/src/images/images/AnthonyFauci/045_4b0bc162.jpg'),\n",
       " PosixPath('/tf/src/images/images/AnthonyFauci/046_0b722003.jpg'),\n",
       " PosixPath('/tf/src/images/images/AnthonyFauci/047_f2ec0716.jpg'),\n",
       " PosixPath('/tf/src/images/images/AnthonyFauci/048_147e292c.jpg'),\n",
       " PosixPath('/tf/src/images/images/AnthonyFauci/049_9671348f.jpg'),\n",
       " PosixPath('/tf/src/images/images/AnthonyFauci/050_7e0e3d54.jpg'),\n",
       " PosixPath('/tf/src/images/images/AnthonyFauci/051_163923e5.jpg'),\n",
       " PosixPath('/tf/src/images/images/AnthonyFauci/052_261bb246.jpg'),\n",
       " PosixPath('/tf/src/images/images/AnthonyFauci/053_298d1b45.jpg'),\n",
       " PosixPath('/tf/src/images/images/AnthonyFauci/054_21993972.jpg'),\n",
       " PosixPath('/tf/src/images/images/AnthonyFauci/055_15f9c879.jpg'),\n",
       " PosixPath('/tf/src/images/images/AnthonyFauci/056_030ba9b9.jpg'),\n",
       " PosixPath('/tf/src/images/images/AnthonyFauci/057_592dc859.jpg'),\n",
       " PosixPath('/tf/src/images/images/AnthonyFauci/058_6d1d15ec.jpg'),\n",
       " PosixPath('/tf/src/images/images/AnthonyFauci/059_4e6f2b92.jpg'),\n",
       " PosixPath('/tf/src/images/images/AnthonyFauci/060_ecdeda0b.jpg'),\n",
       " PosixPath('/tf/src/images/images/AnthonyFauci/061_4f052a9f.jpg'),\n",
       " PosixPath('/tf/src/images/images/AnthonyFauci/062_4959fb8d.jpg'),\n",
       " PosixPath('/tf/src/images/images/AnthonyFauci/063_f51990c2.jpg'),\n",
       " PosixPath('/tf/src/images/images/AnthonyFauci/064_acec6d58.jpg'),\n",
       " PosixPath('/tf/src/images/images/AnthonyFauci/065_bc0aee55.jpg'),\n",
       " PosixPath('/tf/src/images/images/AnthonyFauci/066_d6a118cc.jpg'),\n",
       " PosixPath('/tf/src/images/images/AnthonyFauci/067_abbc257e.jpg'),\n",
       " PosixPath('/tf/src/images/images/AnthonyFauci/068_787a0190.jpg'),\n",
       " PosixPath('/tf/src/images/images/AnthonyFauci/069_73a2c7e1.jpg'),\n",
       " PosixPath('/tf/src/images/images/AnthonyFauci/070_1e8fdccd.jpg'),\n",
       " PosixPath('/tf/src/images/images/AnthonyFauci/071_ad0660df.jpg'),\n",
       " PosixPath('/tf/src/images/images/AnthonyFauci/072_469408cc.jpg'),\n",
       " PosixPath('/tf/src/images/images/AnthonyFauci/073_db4a8f47.jpg'),\n",
       " PosixPath('/tf/src/images/images/AnthonyFauci/074_43f6c0eb.jpg'),\n",
       " PosixPath('/tf/src/images/images/AnthonyFauci/075_4910ecf2.jpg'),\n",
       " PosixPath('/tf/src/images/images/AnthonyFauci/076_b7de8c30.jpg'),\n",
       " PosixPath('/tf/src/images/images/AnthonyFauci/077_544bc0e7.jpg'),\n",
       " PosixPath('/tf/src/images/images/AnthonyFauci/078_64fd50f7.jpg'),\n",
       " PosixPath('/tf/src/images/images/AnthonyFauci/079_29411770.jpg'),\n",
       " PosixPath('/tf/src/images/images/AnthonyFauci/080_f35466da.jpg'),\n",
       " PosixPath('/tf/src/images/images/AnthonyFauci/081_1d7a24f7.jpg'),\n",
       " PosixPath('/tf/src/images/images/AnthonyFauci/082_da0b8504.jpg'),\n",
       " PosixPath('/tf/src/images/images/AnthonyFauci/083_a1abcb78.jpg'),\n",
       " PosixPath('/tf/src/images/images/AnthonyFauci/084_c115dd78.jpg'),\n",
       " PosixPath('/tf/src/images/images/AnthonyFauci/085_fe06396c.jpg'),\n",
       " PosixPath('/tf/src/images/images/AnthonyFauci/086_a77acdb1.jpg'),\n",
       " PosixPath('/tf/src/images/images/AnthonyFauci/087_330bfc6d.jpg'),\n",
       " PosixPath('/tf/src/images/images/AnthonyFauci/088_a04db17e.jpg'),\n",
       " PosixPath('/tf/src/images/images/AnthonyFauci/089_cbb6e68e.jpg'),\n",
       " PosixPath('/tf/src/images/images/AnthonyFauci/090_908f0047.jpg'),\n",
       " PosixPath('/tf/src/images/images/AnthonyFauci/091_93535a74.jpg'),\n",
       " PosixPath('/tf/src/images/images/AnthonyFauci/092_2bef452e.jpg'),\n",
       " PosixPath('/tf/src/images/images/AnthonyFauci/093_4dc787bc.jpg'),\n",
       " PosixPath('/tf/src/images/images/AnthonyFauci/094_6f67f94d.jpg'),\n",
       " PosixPath('/tf/src/images/images/AnthonyFauci/095_cbb6fe93.jpg'),\n",
       " PosixPath('/tf/src/images/images/AnthonyFauci/096_d92add35.jpg'),\n",
       " PosixPath('/tf/src/images/images/AnthonyFauci/097_a6bdabe3.jpg'),\n",
       " PosixPath('/tf/src/images/images/AnthonyFauci/098_e90edd44.jpg'),\n",
       " PosixPath('/tf/src/images/images/AnthonyFauci/099_27b6cacd.jpg'),\n",
       " PosixPath('/tf/src/images/images/AnthonyFauci/100_28930996.jpg'),\n",
       " PosixPath('/tf/src/images/images/AnthonyFauci/101_3649429c.jpg'),\n",
       " PosixPath('/tf/src/images/images/AnthonyFauci/102_084c5fd6.jpg'),\n",
       " PosixPath('/tf/src/images/images/AnthonyFauci/103_55dc1a7b.jpg'),\n",
       " PosixPath('/tf/src/images/images/AnthonyFauci/104_b84cc009.jpg'),\n",
       " PosixPath('/tf/src/images/images/AnthonyFauci/105_913ca1ee.jpg'),\n",
       " PosixPath('/tf/src/images/images/AnthonyFauci/106_21690247.jpg'),\n",
       " PosixPath('/tf/src/images/images/AnthonyFauci/107_2bc9356b.jpg'),\n",
       " PosixPath('/tf/src/images/images/AnthonyFauci/108_8f461bb1.jpg'),\n",
       " PosixPath('/tf/src/images/images/AnthonyFauci/109_7990cbed.jpg'),\n",
       " PosixPath('/tf/src/images/images/AnthonyFauci/110_df8ae819.jpg'),\n",
       " PosixPath('/tf/src/images/images/AnthonyFauci/111_11939a5b.jpg'),\n",
       " PosixPath('/tf/src/images/images/AnthonyFauci/112_3df94315.jpg'),\n",
       " PosixPath('/tf/src/images/images/AnthonyFauci/113_64d237d1.jpg'),\n",
       " PosixPath('/tf/src/images/images/AnthonyFauci/114_f13ca098.jpg'),\n",
       " PosixPath('/tf/src/images/images/AnthonyFauci/115_d4205690.jpg'),\n",
       " PosixPath('/tf/src/images/images/AnthonyFauci/116_a6e4ebc9.jpg'),\n",
       " PosixPath('/tf/src/images/images/AnthonyFauci/117_603e2192.jpg'),\n",
       " PosixPath('/tf/src/images/images/AnthonyFauci/118_4bc21a1f.jpg'),\n",
       " PosixPath('/tf/src/images/images/AnthonyFauci/119_2f34d6de.jpg'),\n",
       " PosixPath('/tf/src/images/images/AnthonyFauci/120_a26bf399.jpg'),\n",
       " PosixPath('/tf/src/images/images/AnthonyFauci/121_acc8ab80.jpg'),\n",
       " PosixPath('/tf/src/images/images/AnthonyFauci/122_db2f0269.jpg'),\n",
       " PosixPath('/tf/src/images/images/AnthonyFauci/123_90148592.jpg'),\n",
       " PosixPath('/tf/src/images/images/AnthonyFauci/124_aa6dde49.jpg'),\n",
       " PosixPath('/tf/src/images/images/AnthonyFauci/125_660ee480.jpg'),\n",
       " PosixPath('/tf/src/images/images/AnthonyFauci/126_42721d54.jpg'),\n",
       " PosixPath('/tf/src/images/images/AnthonyFauci/127_6cdad12b.jpg'),\n",
       " PosixPath('/tf/src/images/images/AnthonyFauci/128_dac4a14c.jpg'),\n",
       " PosixPath('/tf/src/images/images/AnthonyFauci/129_62c83356.jpg'),\n",
       " PosixPath('/tf/src/images/images/AnthonyFauci/130_474c59db.jpg'),\n",
       " PosixPath('/tf/src/images/images/AnthonyFauci/131_f6ecfb4b.jpg'),\n",
       " PosixPath('/tf/src/images/images/AnthonyFauci/132_49065463.jpg'),\n",
       " PosixPath('/tf/src/images/images/AnthonyFauci/133_54563ff9.jpg'),\n",
       " PosixPath('/tf/src/images/images/AnthonyFauci/134_2b968dfc.jpg'),\n",
       " PosixPath('/tf/src/images/images/AnthonyFauci/135_502d0d1e.jpg'),\n",
       " PosixPath('/tf/src/images/images/AnthonyFauci/136_b2616a84.jpg'),\n",
       " PosixPath('/tf/src/images/images/AnthonyFauci/137_5b50aa4d.jpg'),\n",
       " PosixPath('/tf/src/images/images/AnthonyFauci/138_da195a0d.jpg'),\n",
       " PosixPath('/tf/src/images/images/AnthonyFauci/139_5d0e4c93.jpg'),\n",
       " PosixPath('/tf/src/images/images/AnthonyFauci/140_aba118cf.jpg'),\n",
       " PosixPath('/tf/src/images/images/AnthonyFauci/141_3c12a8e8.jpg'),\n",
       " PosixPath('/tf/src/images/images/AnthonyFauci/142_712d6bb4.jpg'),\n",
       " PosixPath('/tf/src/images/images/AnthonyFauci/143_83701d11.jpg'),\n",
       " PosixPath('/tf/src/images/images/AnthonyFauci/144_fb2432f1.jpg'),\n",
       " PosixPath('/tf/src/images/images/AnthonyFauci/145_939a1434.jpg'),\n",
       " PosixPath('/tf/src/images/images/AnthonyFauci/146_d77fa827.jpg'),\n",
       " PosixPath('/tf/src/images/images/AnthonyFauci/147_9276cbb3.jpg'),\n",
       " PosixPath('/tf/src/images/images/AnthonyFauci/148_29f26ea1.jpg'),\n",
       " PosixPath('/tf/src/images/images/AnthonyFauci/149_6bbdeb72.jpg'),\n",
       " PosixPath('/tf/src/images/images/AnthonyFauci/150_056350fa.jpg'),\n",
       " PosixPath('/tf/src/images/images/AnthonyFauci/151_acf9d79c.jpg'),\n",
       " PosixPath('/tf/src/images/images/AnthonyFauci/152_ccdb2251.jpg'),\n",
       " PosixPath('/tf/src/images/images/AnthonyFauci/153_ff680802.jpg'),\n",
       " PosixPath('/tf/src/images/images/AnthonyFauci/154_2402d121.jpg'),\n",
       " PosixPath('/tf/src/images/images/AnthonyFauci/155_933317ab.jpg'),\n",
       " PosixPath('/tf/src/images/images/AnthonyFauci/156_83fd0485.jpg'),\n",
       " PosixPath('/tf/src/images/images/AnthonyFauci/157_bd3cac09.jpg'),\n",
       " PosixPath('/tf/src/images/images/AnthonyFauci/158_945ca5db.jpg'),\n",
       " PosixPath('/tf/src/images/images/AnthonyFauci/159_906e4777.jpg'),\n",
       " PosixPath('/tf/src/images/images/AnthonyFauci/160_0739acbe.jpg'),\n",
       " PosixPath('/tf/src/images/images/AnthonyFauci/161_94e1e595.jpg'),\n",
       " PosixPath('/tf/src/images/images/AnthonyFauci/162_d5e8ac6d.jpg'),\n",
       " PosixPath('/tf/src/images/images/AnthonyFauci/163_b9113e3a.jpg'),\n",
       " PosixPath('/tf/src/images/images/AnthonyFauci/164_33ff7d74.jpg'),\n",
       " PosixPath('/tf/src/images/images/AnthonyFauci/165_2c99fe4c.jpg'),\n",
       " PosixPath('/tf/src/images/images/AnthonyFauci/166_567b31b1.jpg'),\n",
       " PosixPath('/tf/src/images/images/AnthonyFauci/167_df49a62a.jpg'),\n",
       " PosixPath('/tf/src/images/images/AnthonyFauci/168_f7d901a4.jpg'),\n",
       " PosixPath('/tf/src/images/images/AnthonyFauci/169_b99d4ee4.jpg'),\n",
       " PosixPath('/tf/src/images/images/AnthonyFauci/170_34b70a2b.jpg'),\n",
       " PosixPath('/tf/src/images/images/AnthonyFauci/171_a18e3cb8.jpg'),\n",
       " PosixPath('/tf/src/images/images/AnthonyFauci/172_dfbcc40b.jpg'),\n",
       " PosixPath('/tf/src/images/images/AnthonyFauci/173_bfa5b51e.jpg'),\n",
       " PosixPath('/tf/src/images/images/AnthonyFauci/174_341ae86b.jpg'),\n",
       " PosixPath('/tf/src/images/images/AnthonyFauci/175_5e5b023a.jpg'),\n",
       " PosixPath('/tf/src/images/images/AnthonyFauci/176_d9e84ec6.jpg'),\n",
       " PosixPath('/tf/src/images/images/AnthonyFauci/177_17971130.jpg'),\n",
       " PosixPath('/tf/src/images/images/AnthonyFauci/178_15f85d8a.jpg'),\n",
       " PosixPath('/tf/src/images/images/AnthonyFauci/179_6043c70b.jpg'),\n",
       " PosixPath('/tf/src/images/images/AnthonyFauci/180_ed857b2b.jpg'),\n",
       " PosixPath('/tf/src/images/images/AnthonyFauci/181_12a835ee.jpg'),\n",
       " PosixPath('/tf/src/images/images/AnthonyFauci/182_5987b373.jpg'),\n",
       " PosixPath('/tf/src/images/images/AnthonyFauci/183_054ab487.jpg'),\n",
       " PosixPath('/tf/src/images/images/AnthonyFauci/184_f1583712.jpg'),\n",
       " PosixPath('/tf/src/images/images/AnthonyFauci/185_cbed9825.jpg'),\n",
       " PosixPath('/tf/src/images/images/AnthonyFauci/186_ded29abd.jpg'),\n",
       " PosixPath('/tf/src/images/images/AnthonyFauci/187_bd111b1a.jpg'),\n",
       " PosixPath('/tf/src/images/images/AnthonyFauci/188_c9366b31.jpg'),\n",
       " PosixPath('/tf/src/images/images/AnthonyFauci/189_895d81ff.jpg'),\n",
       " PosixPath('/tf/src/images/images/AnthonyFauci/190_53607fb8.jpg'),\n",
       " PosixPath('/tf/src/images/images/AnthonyFauci/191_b11b1e57.jpg'),\n",
       " PosixPath('/tf/src/images/images/AnthonyFauci/192_4a99bdbf.jpg'),\n",
       " PosixPath('/tf/src/images/images/AnthonyFauci/193_cdeb0be1.jpg'),\n",
       " PosixPath('/tf/src/images/images/AnthonyFauci/194_2faf28a1.jpg'),\n",
       " PosixPath('/tf/src/images/images/AnthonyFauci/195_e595196e.jpg'),\n",
       " PosixPath('/tf/src/images/images/AnthonyFauci/196_f11d772c.jpg'),\n",
       " PosixPath('/tf/src/images/images/AnthonyFauci/197_c79c423b.jpg'),\n",
       " PosixPath('/tf/src/images/images/AnthonyFauci/198_be20c055.jpg'),\n",
       " PosixPath('/tf/src/images/images/AnthonyFauci/199_192b43e8.jpg'),\n",
       " PosixPath('/tf/src/images/images/AnthonyFauci/200_cd93d31f.jpg')]"
      ]
     },
     "execution_count": 4,
     "metadata": {},
     "output_type": "execute_result"
    }
   ],
   "source": [
    "from pathlib import Path\n",
    "root = Path().cwd()/\"images\"\n",
    "\n",
    "from jmd_imagescraper.core import * # dont't worry, it's designed to work with import *\n",
    "\n",
    "results = 200;\n",
    "\n",
    "duckduckgo_search(root, \"LewisHamilton\", \"lewis hamilton\", max_results=results)\n",
    "duckduckgo_search(root, \"SebastianVettel\", \"sebastian vettel\", max_results=results)\n",
    "duckduckgo_search(root, \"MaxVerstappen\", \"max verstappen\", max_results=results)\n",
    "duckduckgo_search(root, \"KarlLauterbach\", \"karl lauterbach\", max_results=results)\n",
    "duckduckgo_search(root, \"CristianoRonaldo\", \"cristiano ronaldo\", max_results=results)\n",
    "duckduckgo_search(root, \"LionelMessi\", \"lionel messi\", max_results=results)\n",
    "duckduckgo_search(root, \"EdSheeran\", \"ed sheeran\", max_results=results)\n",
    "duckduckgo_search(root, \"TomCruise\", \"tom cruise\", max_results=results)\n",
    "\n",
    "duckduckgo_search(root, \"HeleneFischer\", \"helene fischer\", max_results=results)\n",
    "duckduckgo_search(root, \"Rihanna\", \"rihanna\", max_results=results)\n",
    "duckduckgo_search(root, \"GüntherJauch\", \"günther jauch\", max_results=results)\n",
    "duckduckgo_search(root, \"StefanRaab\", \"stefan raab\", max_results=results)\n",
    "duckduckgo_search(root, \"HeidiKlum\", \"heidi klum\", max_results=results)\n",
    "duckduckgo_search(root, \"Nena\", \"nena\", max_results=results)\n",
    "duckduckgo_search(root, \"ManuelNeuer\", \"manuel neuer\", max_results=results)\n",
    "duckduckgo_search(root, \"ElyasM'barek\", \"elyas m'barek\", max_results=results)\n",
    "\n",
    "duckduckgo_search(root, \"JudithRakers\", \"judith rakers\", max_results=results)\n",
    "duckduckgo_search(root, \"AngelaMerkel\", \"angela merkel\", max_results=results)\n",
    "duckduckgo_search(root, \"WladimirPutin\", \"wladimir wladimirowitsch putin\", max_results=results)\n",
    "duckduckgo_search(root, \"OlafScholz\", \"olaf scholz\", max_results=results)\n",
    "duckduckgo_search(root, \"JoeBiden\", \"joe biden\", max_results=results)\n",
    "duckduckgo_search(root, \"DonaldTrump\", \"donald trump\", max_results=results)\n",
    "duckduckgo_search(root, \"ChristianLindner\", \"christian lindner\", max_results=results)\n",
    "duckduckgo_search(root, \"AnnalenaBaerbock\", \"annalena baerbock\", max_results=results)\n",
    "\n",
    "duckduckgo_search(root, \"ElonMusk\", \"elon musk\", max_results=results)\n",
    "duckduckgo_search(root, \"JeffBezos\", \"jeff bezos\", max_results=results)\n",
    "duckduckgo_search(root, \"BarackObama\", \"barack obama\", max_results=results)\n",
    "duckduckgo_search(root, \"ChrisPratt\", \"chris pratt\", max_results=results)\n",
    "duckduckgo_search(root, \"XiJinping\", \"xi jinping\", max_results=results)\n",
    "duckduckgo_search(root, \"DwayneJohnson\", \"dwayne the rock johnson\", max_results=results)\n",
    "duckduckgo_search(root, \"MacKenzieScott\", \"macKenzie scott\", max_results=results)\n",
    "duckduckgo_search(root, \"AnthonyFauci\", \"anthony fauci\", max_results=results)"
   ]
  },
  {
   "cell_type": "code",
   "execution_count": null,
   "metadata": {},
   "outputs": [],
   "source": []
  }
 ],
 "metadata": {
  "kernelspec": {
   "display_name": "Python 3",
   "language": "python",
   "name": "python3"
  },
  "language_info": {
   "codemirror_mode": {
    "name": "ipython",
    "version": 3
   },
   "file_extension": ".py",
   "mimetype": "text/x-python",
   "name": "python",
   "nbconvert_exporter": "python",
   "pygments_lexer": "ipython3",
   "version": "3.8.10"
  }
 },
 "nbformat": 4,
 "nbformat_minor": 2
}
